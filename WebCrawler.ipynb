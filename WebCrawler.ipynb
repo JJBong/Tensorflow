{
 "cells": [
  {
   "cell_type": "code",
   "execution_count": 51,
   "metadata": {
    "collapsed": false
   },
   "outputs": [],
   "source": [
    "from selenium import webdriver"
   ]
  },
  {
   "cell_type": "code",
   "execution_count": 52,
   "metadata": {
    "collapsed": true
   },
   "outputs": [],
   "source": [
    "from bs4 import BeautifulSoup"
   ]
  },
  {
   "cell_type": "code",
   "execution_count": 53,
   "metadata": {
    "collapsed": false
   },
   "outputs": [],
   "source": [
    "driver = webdriver.Chrome('/Users/jubong/Downloads/chromedriver')"
   ]
  },
  {
   "cell_type": "code",
   "execution_count": 54,
   "metadata": {
    "collapsed": true
   },
   "outputs": [],
   "source": [
    "driver.implicitly_wait(3)"
   ]
  },
  {
   "cell_type": "code",
   "execution_count": 67,
   "metadata": {
    "collapsed": true
   },
   "outputs": [],
   "source": [
    "driver.get('https://www.google.co.kr/search?q=Earth%2C+Planets+and+Space+issn&oq=Earth%2C+Planets+and+Space+issn&gs_l=psy-ab.3..0.56364.56364.0.57347.1.1.0.0.0.0.195.195.0j1.1.0....0...1.2.64.psy-ab..0.1.194.VcBAghTBYkA')"
   ]
  },
  {
   "cell_type": "code",
   "execution_count": 68,
   "metadata": {
    "collapsed": true
   },
   "outputs": [],
   "source": [
    "html = driver.page_source\n",
    "soup = BeautifulSoup(html, 'html.parser')\n",
    "notices = soup.select('div.rc')"
   ]
  },
  {
   "cell_type": "code",
   "execution_count": 69,
   "metadata": {
    "collapsed": true
   },
   "outputs": [],
   "source": [
    "def similarity(text, p):\n",
    "    text = text.split(' ')\n",
    "    text.append(\"journal\")\n",
    "    cnt = 0\n",
    "    for ti in text:\n",
    "        if ti in p:\n",
    "            cnt += 1\n",
    "    return cnt"
   ]
  },
  {
   "cell_type": "code",
   "execution_count": 71,
   "metadata": {
    "collapsed": false
   },
   "outputs": [
    {
     "name": "stdout",
     "output_type": "stream",
     "text": [
      "Earth, Planets and Space - a SpringerOpen journal\n",
      "\n",
      "This website uses cookies. By using our website and agreeing to our cookies policy, you consent to our use of cookies in accordance with the terms of this policy.\n",
      "Read more\n",
      "\n",
      "1\n",
      "\n",
      "Editor-in-Chief: Yasuo Ogawa\n",
      "0\n",
      "\n",
      "\n",
      "\n",
      "ISSN:  1880-5981\n",
      " (electronic version)\n",
      "\t\t\t\n",
      "\t\t\t\n",
      "0\n",
      "\n",
      "Journal no. 40623\n",
      "0\n",
      "\n",
      "The official journal of the Society of Geomagnetism and Earth, Planetary and Space Sciences, The Seismological Society of Japan, The Volcanological Society of Japan, The Geodetic Society of Japan, and The Japanese Society for Planetary Sciences. \n",
      "4\n",
      "\n",
      "This journal offers original scientific articles on topics in earth and planetary sciences, focused on geomagnetism, aeronomy, space science, seismology, volcanology, geodesy and planetary science. \n",
      "2\n",
      "\n",
      "\n",
      "Related subjects »\n",
      "\n",
      "Earth Sciences & Geography\n",
      "\n",
      " - \n",
      "Geology\n",
      "\n",
      " - \n",
      "Geophysics & Geodesy\n",
      "\n",
      "\n",
      "0\n",
      "\n",
      "Journal Citation Reports®\n",
      "0\n",
      "\n",
      "Science Citation Index, Science Citation Index Expanded (SciSearch), SCOPUS, INSPEC, Astrophysics Data System (ADS), Google Scholar, EBSCO Discovery Service, CSA, ProQuest, Academic Search, Current Contents/Physical, Chemical and Earth Sciences, Earthquake Engineering Abstracts, Geobase, GeoRef, INIS Atomindex, OCLC, SCImago, Summon by ProQuest\n",
      "1\n",
      "\n",
      "\n",
      "\t\t\t\tYou have no marked items.\n",
      "\t\t\t\n",
      "0\n",
      "\n",
      "\n",
      "\t\t\t\t로그인되어 있지 않습니다! 카탈로그를 편집하시려면 로그인해 주십시오.\n",
      "\t\t\t\n",
      "0\n",
      "\n",
      "The official journal of the Society of Geomagnetism and Earth, Planetary and Space Sciences, The Seismological Society of Japan, The Volcanological Society of Japan, The Geodetic Society of Japan, and The Japanese Society for Planetary Sciences. \n"
     ]
    }
   ],
   "source": [
    "for n in notices:\n",
    "    if \"ISSN\" in n.text or \"issn\" in n.text:\n",
    "        driver_site = driver.get(str(n.a).split('\"')[1])\n",
    "        driver.implicitly_wait(3)\n",
    "        \n",
    "        html = driver.page_source\n",
    "        soup = BeautifulSoup(html, 'html.parser')\n",
    "        title = soup.select('title')\n",
    "        for t in title:\n",
    "            print(t.text)\n",
    "        notices = soup.select('p')\n",
    "        \n",
    "        ps = list()\n",
    "        count = list()\n",
    "        for n in notices:\n",
    "            print(n.text)\n",
    "            print(similarity('Earth, Planets and Space', str(n.text)))\n",
    "            ps.append(n.text)\n",
    "            count.append(similarity('Earth, Planets and Space', str(n.text)))\n",
    "            print()\n",
    "        print(ps[count.index(max(count))])\n",
    "        break\n",
    "        #print(n.text)\n",
    "        #print(str(n.a).split('\"')[1])\n",
    "        #print()"
   ]
  },
  {
   "cell_type": "code",
   "execution_count": 90,
   "metadata": {
    "collapsed": false
   },
   "outputs": [
    {
     "name": "stdout",
     "output_type": "stream",
     "text": [
      "update cfp_journal set HOMEPAGE='http://iopscience.iop.org/', DESCRIPTION='', PUBLISHER='',ISSN='' WHERE ID='5656' and title='Fluid Dynamics Research'\n"
     ]
    }
   ],
   "source": [
    "f = open('/Users/jubong/Downloads/journal_주봉이형.txt', 'r')\n",
    "string = f.read()\n",
    "splited_string = string.split('\\n')\n",
    "print(splited_string[0])\n",
    "f.close()"
   ]
  },
  {
   "cell_type": "code",
   "execution_count": null,
   "metadata": {
    "collapsed": true
   },
   "outputs": [],
   "source": []
  }
 ],
 "metadata": {
  "kernelspec": {
   "display_name": "Python 3",
   "language": "python",
   "name": "python3"
  },
  "language_info": {
   "codemirror_mode": {
    "name": "ipython",
    "version": 3
   },
   "file_extension": ".py",
   "mimetype": "text/x-python",
   "name": "python",
   "nbconvert_exporter": "python",
   "pygments_lexer": "ipython3",
   "version": "3.6.0"
  }
 },
 "nbformat": 4,
 "nbformat_minor": 2
}
