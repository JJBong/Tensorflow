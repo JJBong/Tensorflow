{
 "cells": [
  {
   "cell_type": "code",
   "execution_count": 1,
   "metadata": {
    "collapsed": false
   },
   "outputs": [
    {
     "name": "stderr",
     "output_type": "stream",
     "text": [
      "WARNING: No route found for IPv6 destination :: (no default route?). This affects only IPv6\n"
     ]
    }
   ],
   "source": [
    "from scapy.all import *\n",
    "import psutil"
   ]
  },
  {
   "cell_type": "code",
   "execution_count": 31,
   "metadata": {
    "collapsed": false
   },
   "outputs": [
    {
     "name": "stdout",
     "output_type": "stream",
     "text": [
      "Ether / IP / UDP 172.19.88.189:mdns > 224.0.0.251:mdns / Raw\n",
      "Ether / IP / UDP 172.19.86.75:mdns > 224.0.0.251:mdns / Raw\n",
      "Ether / IP / UDP 172.19.88.30:mdns > 224.0.0.251:mdns / Raw\n",
      "Ether / IP / UDP 172.19.88.15:55784 > 239.255.255.250:ssdp / Raw\n",
      "Ether / IP / UDP 172.19.86.38:mdns > 224.0.0.251:mdns / Raw\n",
      "Ether / IP / UDP 172.19.86.38:mdns > 224.0.0.251:mdns / Raw\n",
      "Ether / IP / UDP 172.19.89.100:mdns > 224.0.0.251:mdns / Raw\n",
      "Ether / IP / UDP 172.19.85.121:54915 > 172.19.85.255:54915 / Raw\n",
      "Ether / IP / UDP 172.19.83.44:38287 > 239.255.255.250:ssdp / Raw\n",
      "Ether / IP / UDP 218.150.181.120:36993 > 172.19.87.53:56382 / Raw\n",
      "Ether / IP / UDP 172.19.82.181:mdns > 224.0.0.251:mdns / Raw\n",
      "Ether / IP / UDP 172.19.89.92:mdns > 224.0.0.251:mdns / Raw\n",
      "Ether / IPv6 / UDP fe80::aee:8bff:fe37:5dd3:mdns > ff02::fb:mdns / Raw\n",
      "Ether / IP / UDP 172.19.83.44:38287 > 239.255.255.250:ssdp / Raw\n",
      "Ether / IP / UDP 172.19.83.44:38287 > 239.255.255.250:ssdp / Raw\n",
      "Ether / IP / UDP 172.19.87.6:netbios_ns > 172.19.87.255:netbios_ns / NBNSQueryRequest\n",
      "Ether / IP / UDP 172.19.87.53:65267 > 239.255.255.250:ssdp / Raw\n",
      "Ether / IP / UDP 172.19.88.30:mdns > 224.0.0.251:mdns / Raw\n",
      "Ether / IP / UDP 172.19.89.19:mdns > 224.0.0.251:mdns / Raw\n",
      "Ether / IP / UDP 172.19.83.44:39156 > 239.255.255.250:ssdp / Raw\n",
      "Ether / IPv6 / UDP fe80::a5d3:7ef:3064:3fd9:52243 > ff02::c:ssdp / Raw\n",
      "Ether / IP / UDP 172.19.84.155:mdns > 224.0.0.251:mdns / Raw\n",
      "Ether / IP / UDP 172.19.83.44:39156 > 239.255.255.250:ssdp / Raw\n",
      "Ether / IP / UDP 172.19.87.53:56382 > 218.150.181.120:36993 / Raw\n",
      "Ether / IP / UDP 218.150.181.120:36993 > 172.19.87.53:56382 / Raw\n",
      "Ether / IP / UDP 218.150.181.120:36993 > 172.19.87.53:56382 / Raw\n",
      "Ether / IP / UDP 172.19.87.53:56382 > 218.150.181.120:36993 / Raw\n",
      "Ether / IP / UDP 218.150.181.120:36993 > 172.19.87.53:56382 / Raw\n",
      "Ether / IP / UDP 172.19.87.53:56382 > 218.150.181.120:36993 / Raw\n",
      "Ether / IP / UDP 172.19.87.53:56382 > 218.150.181.120:36993 / Raw\n",
      "Ether / IPv6 / UDP fe80::e6fa:edff:fe02:c0e8:mdns > ff02::fb:mdns / Raw\n",
      "Ether / IP / UDP 172.19.83.44:39156 > 239.255.255.250:ssdp / Raw\n",
      "Ether / IP / UDP 172.19.92.17:49788 > 224.0.0.252:llmnr / LLMNRQuery\n",
      "Ether / IP / UDP 172.19.89.29:59722 > 239.255.255.250:ssdp / Raw\n",
      "Ether / IP / UDP 172.19.92.17:49788 > 224.0.0.252:llmnr / LLMNRQuery\n",
      "Ether / IPv6 / UDP fe80::3021:ed79:70f5:fde8:57040 > ff02::c:ssdp / Raw\n",
      "Ether / IP / UDP 172.19.88.53:mdns > 224.0.0.251:mdns / Raw\n",
      "Ether / IPv6 / UDP fe80::264b:81ff:feb5:22e:mdns > ff02::fb:mdns / Raw\n",
      "Ether / IPv6 / UDP fe80::e6fa:edff:fe02:c0e8:mdns > ff02::fb:mdns / Raw\n",
      "Ether / IP / UDP 172.19.88.30:mdns > 224.0.0.251:mdns / Raw\n",
      "Ether / IP / UDP 172.19.85.121:54915 > 172.19.85.255:54915 / Raw\n",
      "Ether / IP / UDP 172.19.87.6:netbios_ns > 172.19.87.255:netbios_ns / NBNSQueryRequest\n",
      "Ether / IP / UDP 172.19.94.116:mdns > 224.0.0.251:mdns / Raw\n",
      "Ether / IP / UDP 172.19.92.17:netbios_ns > 172.19.92.255:netbios_ns / NBNSQueryRequest\n",
      "Ether / IP / UDP 172.19.83.44:57342 > 239.255.255.250:ssdp / Raw\n",
      "Ether / IP / UDP 172.19.88.24:mdns > 224.0.0.251:mdns / Raw\n",
      "Ether / IPv6 / UDP fe80::42d3:aeff:fe73:d6f8:mdns > ff02::fb:mdns / Raw\n",
      "Ether / IP / UDP 172.19.84.123:mdns > 224.0.0.251:mdns / Raw\n",
      "Ether / IPv6 / UDP fe80::fae6:1aff:fe42:2aa:mdns > ff02::fb:mdns / Raw\n",
      "Ether / IP / UDP 172.19.84.181:mdns > 224.0.0.251:mdns / Raw\n",
      "Ether / IPv6 / UDP fe80::2a27:bfff:fef7:1c10:mdns > ff02::fb:mdns / Raw\n",
      "Ether / IP / UDP 172.19.83.44:57342 > 239.255.255.250:ssdp / Raw\n",
      "Ether / IP / UDP 172.19.94.116:mdns > 224.0.0.251:mdns / Raw\n",
      "Ether / IPv6 / UDP fe80::e6fa:edff:fe02:c0e8:mdns > ff02::fb:mdns / Raw\n",
      "Ether / IP / UDP 172.19.86.8:mdns > 224.0.0.251:mdns / Raw\n",
      "Ether / IP / UDP 172.19.87.53:56382 > 218.150.181.120:36993 / Raw\n",
      "Ether / IP / UDP 172.19.83.44:57342 > 239.255.255.250:ssdp / Raw\n",
      "Ether / IP / UDP 172.19.89.19:mdns > 224.0.0.251:mdns / Raw\n",
      "Ether / IPv6 / UDP fe80::e6fa:edff:fe02:c0e8:mdns > ff02::fb:mdns / Raw\n",
      "Ether / IP / UDP 172.19.94.116:mdns > 224.0.0.251:mdns / Raw\n",
      "Ether / IP / UDP 172.19.86.22:mdns > 224.0.0.251:mdns / Raw\n",
      "Ether / IP / UDP 172.19.87.53:56382 > 218.150.181.120:36993 / Raw\n",
      "Ether / IP / UDP 218.150.181.120:36993 > 172.19.87.53:56382 / Raw\n",
      "Ether / IP / UDP 218.150.181.120:36993 > 172.19.87.53:56382 / Raw\n",
      "Ether / IP / UDP 172.19.87.53:56382 > 218.150.181.120:36993 / Raw\n",
      "Ether / IP / UDP 172.19.87.53:56382 > 218.150.181.120:36993 / Raw\n",
      "Ether / IP / UDP 218.150.181.120:36993 > 172.19.87.53:56382 / Raw\n",
      "Ether / IPv6 / UDP fe80::f50b:8810:84b0:44ba:50226 > ff02::c:ssdp / Raw\n",
      "Ether / IPv6 / UDP fe80::91e6:b627:bab0:c979:59720 > ff02::c:ssdp / Raw\n",
      "Ether / IP / UDP 172.19.99.106:mdns > 224.0.0.251:mdns / Raw\n",
      "Ether / IP / UDP 172.19.92.17:netbios_ns > 172.19.92.255:netbios_ns / NBNSQueryRequest\n",
      "Ether / IP / UDP 172.19.85.182:mdns > 224.0.0.251:mdns / Raw\n",
      "Ether / IP / UDP 172.19.88.189:mdns > 224.0.0.251:mdns / Raw\n",
      "Ether / IP / UDP 172.19.86.148:mdns > 224.0.0.251:mdns / Raw\n",
      "Ether / IP / UDP 172.19.85.121:54915 > 172.19.85.255:54915 / Raw\n",
      "Ether / IP / UDP 172.19.89.37:64664 > 239.255.255.250:ssdp / Raw\n",
      "Ether / IP / UDP 172.19.94.116:mdns > 224.0.0.251:mdns / Raw\n",
      "Ether / IP / UDP 172.19.84.123:mdns > 224.0.0.251:mdns / Raw\n",
      "Ether / IP / UDP 172.19.94.116:mdns > 224.0.0.251:mdns / Raw\n",
      "Ether / IP / UDP 172.19.86.106:52861 > 239.255.255.250:ssdp / Raw\n",
      "Ether / IP / UDP 172.19.89.19:mdns > 224.0.0.251:mdns / Raw\n",
      "Ether / IP / UDP 172.19.92.17:57528 > 239.255.255.250:ssdp / Raw\n",
      "Ether / IP / UDP 172.19.86.106:52861 > 239.255.255.250:ssdp / Raw\n",
      "Ether / IP / UDP 172.19.88.30:mdns > 224.0.0.251:mdns / Raw\n",
      "Ether / IP / UDP 172.19.83.165:mdns > 224.0.0.251:mdns / Raw\n",
      "Ether / IP / UDP 172.19.83.44:46987 > 239.255.255.250:ssdp / Raw\n",
      "Ether / IP / UDP 172.19.86.106:52861 > 239.255.255.250:ssdp / Raw\n",
      "Ether / IP / UDP 172.19.99.7:mdns > 224.0.0.251:mdns / Raw\n",
      "Ether / IPv6 / UDP fe80::e6fa:edff:fe02:c0e8:mdns > ff02::fb:mdns / Raw\n",
      "Ether / IP / UDP 172.19.94.116:mdns > 224.0.0.251:mdns / Raw\n",
      "Ether / IP / UDP 172.19.92.17:netbios_ns > 172.19.92.255:netbios_ns / NBNSQueryRequest\n",
      "Ether / IP / UDP 172.19.83.44:46987 > 239.255.255.250:ssdp / Raw\n",
      "Ether / IP / UDP 172.19.87.53:56382 > 218.150.181.120:36993 / Raw\n",
      "Ether / IP / UDP 218.150.181.120:36993 > 172.19.87.53:56382 / Raw\n",
      "Ether / IP / UDP 218.150.181.120:36993 > 172.19.87.53:56382 / Raw\n",
      "Ether / IP / UDP 172.19.87.53:56382 > 218.150.181.120:36993 / Raw\n",
      "Ether / IP / UDP 172.19.87.53:56382 > 218.150.181.120:36993 / Raw\n",
      "Ether / IP / UDP 218.150.181.120:36993 > 172.19.87.53:56382 / Raw\n",
      "Ether / IP / UDP 172.19.83.44:46987 > 239.255.255.250:ssdp / Raw\n",
      "Ether / IP / UDP 172.19.84.188:mdns > 224.0.0.251:mdns / Raw\n",
      "Ether / IPv6 / UDP fe80::c91:5f9e:ae73:9278:mdns > ff02::fb:mdns / Raw\n",
      "Ether / IP / UDP 172.19.83.10:55963 > 239.255.255.250:ssdp / Raw\n",
      "Ether / IP / UDP 172.19.86.138:mdns > 224.0.0.251:mdns / Raw\n"
     ]
    }
   ],
   "source": [
    "sniffed = sniff(timeout=3, filter=\"udp\", prn=lambda x:x.summary())"
   ]
  },
  {
   "cell_type": "code",
   "execution_count": 36,
   "metadata": {
    "collapsed": false
   },
   "outputs": [
    {
     "name": "stdout",
     "output_type": "stream",
     "text": [
      "<class 'scapy.packet.Raw'>\n"
     ]
    }
   ],
   "source": [
    "print(type(sniffed[35]['UDP'].payload))"
   ]
  },
  {
   "cell_type": "code",
   "execution_count": 22,
   "metadata": {
    "collapsed": false
   },
   "outputs": [
    {
     "name": "stdout",
     "output_type": "stream",
     "text": [
      "<class 'str'>\n",
      "443\n"
     ]
    }
   ],
   "source": [
    "print(type(sniffed[3]['IP'].src))\n",
    "print(sniffed[3].dport)"
   ]
  },
  {
   "cell_type": "code",
   "execution_count": 287,
   "metadata": {
    "collapsed": true
   },
   "outputs": [],
   "source": [
    "import pymysql\n",
    " \n",
    "# MySQL Connection 연결\n",
    "conn = pymysql.connect(host='localhost', user='root', password='',\n",
    "                       db='testdb', charset='utf8')\n",
    "\n",
    "# Connection 으로부터 Cursor 생성\n",
    "curs = conn.cursor()"
   ]
  },
  {
   "cell_type": "code",
   "execution_count": 289,
   "metadata": {
    "collapsed": false
   },
   "outputs": [
    {
     "name": "stdout",
     "output_type": "stream",
     "text": [
      "((1, '1226065864', '2289378898', '172.19.87.17', '37.252.244.66', '50864', '5938', '6', 'HTTPS', b'asdfasdfad'), (2, '1226065864', '2289378898', '172.19.87.17', '37.252.244.66', '50864', '5938', '6', 'HTTPS', b'asdfasdfad'))\n"
     ]
    }
   ],
   "source": [
    "sql = \"insert into packets(idpackets, starttime, endtime, sip, dip, sport, dport, protocol, process, payload) values (%s, %s, %s, %s, %s, %s, %s, %s, %s, %s)\"\n",
    "curs.execute(sql,(2, str(s[30]['TCP'].options[2][1][0]), str(s[30]['TCP'].options[2][1][1]), s[30]['IP'].src, s[30]['IP'].dst,  \n",
    "                  str(s[30]['TCP'].sport), str(s[30]['TCP'].dport), str(s[30]['IP'].proto), 'HTTPS', 'asdfasdfad'))\n",
    "conn.commit()\n",
    "\n",
    "sql = \"select * from packets\"\n",
    "curs.execute(sql)\n",
    " \n",
    "# 데이타 Fetch\n",
    "rows = curs.fetchall()\n",
    "print(rows)     # 전체 rows\n",
    "\n",
    "conn.close()"
   ]
  },
  {
   "cell_type": "code",
   "execution_count": 248,
   "metadata": {
    "collapsed": false
   },
   "outputs": [
    {
     "name": "stderr",
     "output_type": "stream",
     "text": [
      "WARNING: Unless called manually, this could indicate deprecated use. Should be changed to bytes(self)\n",
      "WARNING: Unless called manually, this could indicate deprecated use. Should be changed to bytes(self)\n",
      "WARNING: more Unless called manually, this could indicate deprecated use. Should be changed to bytes(self)\n"
     ]
    },
    {
     "name": "stdout",
     "output_type": "stream",
     "text": [
      "b'\\xc6\\xa4\\x01\\xbb\\x94\\xa1\\xfb\\x1e\\xea\\xd7\\xba\\xfc\\x80\\x18\\x10\\x00\\x1d\\x18\\x00\\x00\\x01\\x01\\x08\\nI\\x11\\xebr\\x9e\\x83\\xf9\\xd5\\x17\\x03\\x03\\x009\\x00\\x00\\x00\\x00\\x00\\x00\\x03\\x12r\\x00\\x10)\\xb2H\\x95\\xe2G(\\xacL\\xedo\\xc5\\xa6\\xeaH\\x14C~Sm\\xf8h\\xe2!\\t\\x17\\x9e\\xf9\\xd8\\x14#e\\x9ab\\x12\\xa7\\xa3\\xa8\\x98)p\\x13K\\x1b\\x1b\\xfa'\n",
      "b'\\x01\\xbb\\xc6\\xa4\\xea\\xd7\\xba\\xfc\\x94\\xa1\\xfb\\\\\\x80\\x10\\x03\\x9b\\x85\\xa2\\x00\\x00\\x01\\x01\\x08\\n\\x9e\\x84\\x013I\\x11\\xebr'\n",
      "b'\\x01\\xbb\\xc6\\xa4\\xea\\xd7\\xba\\xfc\\x94\\xa1\\xfb\\\\\\x80\\x18\\x03\\x9b\\x0bh\\x00\\x00\\x01\\x01\\x08\\n\\x9e\\x84\\x01gI\\x11\\xebr\\x17\\x03\\x03\\x009\\x85Oq\\xea\\x1a\\x99$]\\xce\\xb2\\x1a\\xc7\\xd6M&(\\xd4\\xebN\\xef1\\xc3\\xeb\\x10\\xc3\\x03~UN\\xe6\\xc4\\xfey.\\x1c{=\\xd4\\xed\\x9a\\xcb(\\xa9\\xc8\\x1e~\\x90\\x920\\xa0\\x1f\\xd5\\xf9\\n{}a'\n",
      "b'\\xc6\\xa4\\x01\\xbb\\x94\\xa1\\xfb\\\\\\xea\\xd7\\xbb:\\x80\\x10\\x0f\\xfewJ\\x00\\x00\\x01\\x01\\x08\\nI\\x11\\xec\\xf5\\x9e\\x84\\x01g'\n",
      "b\"\\xcd\\x0b\\x01\\xbb1q\\xa0'\\x07\\x17LNP\\x10\\x10\\x00\\xe1\\xe3\\x00\\x00\"\n",
      "b'\\x01\\xbb\\xcd\\x0b\\x07\\x17LN1q\\xa0(\\x80\\x10\\x01j\\x0b\\t\\x00\\x00\\x01\\x01\\x08\\nUc/@I\\x0f\\xde\\xa5'\n"
     ]
    }
   ],
   "source": [
    "for i in s:\n",
    "    try:\n",
    "        print(i['TCP'])\n",
    "    except IndexError:\n",
    "        pass"
   ]
  },
  {
   "cell_type": "code",
   "execution_count": 179,
   "metadata": {
    "collapsed": false
   },
   "outputs": [],
   "source": [
    "dstip_list = []\n",
    "for i in range(len(sniffed)):\n",
    "    try:\n",
    "        dstip_list.append((sniffed[i]['IP'].dst, i))\n",
    "    except IndexError:\n",
    "        pass"
   ]
  },
  {
   "cell_type": "code",
   "execution_count": 180,
   "metadata": {
    "collapsed": false
   },
   "outputs": [
    {
     "name": "stdout",
     "output_type": "stream",
     "text": [
      "[('224.0.0.251', 0), ('172.19.88.255', 1), ('172.19.88.255', 2), ('172.19.88.255', 3), ('224.0.0.251', 4), ('224.0.0.251', 5), ('224.0.0.251', 6), ('239.255.255.250', 7), ('239.255.255.250', 9), ('224.0.0.251', 10), ('224.0.0.253', 11), ('224.0.0.251', 12), ('224.0.0.251', 13), ('172.19.85.255', 14), ('172.19.92.255', 15), ('224.0.0.251', 16), ('239.255.255.250', 17), ('224.0.0.251', 18), ('224.0.0.7', 20), ('224.0.0.251', 21), ('224.0.0.251', 22), ('239.255.255.250', 23), ('224.0.0.1', 25), ('224.0.0.251', 26), ('224.0.0.251', 28), ('224.0.0.251', 29), ('224.0.0.1', 31), ('224.0.0.1', 32), ('218.150.181.120', 33), ('172.19.87.6', 34), ('172.19.87.6', 35), ('218.150.181.120', 36), ('172.19.87.6', 37), ('218.150.181.120', 38), ('52.221.227.15', 39), ('172.19.82.255', 40), ('224.0.0.251', 41), ('239.255.255.250', 42), ('239.255.255.250', 44), ('224.0.0.1', 46), ('224.0.0.251', 47), ('255.255.255.255', 48), ('239.255.255.250', 50), ('239.255.255.250', 52), ('172.19.87.6', 53), ('239.255.255.250', 54), ('224.0.0.251', 55), ('224.0.0.251', 56), ('239.255.255.250', 57), ('172.19.88.255', 59), ('224.0.0.252', 61), ('239.255.255.250', 63), ('224.0.0.251', 64), ('239.255.255.250', 65), ('224.0.0.251', 67), ('172.19.87.255', 68), ('239.255.255.250', 69), ('224.0.0.251', 71), ('172.19.87.6', 72), ('52.221.227.15', 73), ('224.0.0.253', 74), ('239.255.255.250', 75), ('172.19.88.255', 76), ('172.19.88.255', 77), ('172.19.88.255', 78), ('172.19.87.6', 79), ('239.255.255.250', 80), ('224.0.0.1', 81), ('239.255.255.250', 82), ('224.0.0.1', 83), ('224.0.0.1', 84), ('224.0.0.251', 85), ('239.255.255.250', 86), ('172.19.92.255', 87), ('224.0.0.1', 88), ('224.0.0.252', 90), ('239.255.255.250', 91), ('255.255.255.255', 93), ('255.255.255.255', 94), ('172.19.86.255', 95), ('255.255.255.255', 96), ('255.255.255.255', 97), ('224.0.0.251', 98), ('172.19.88.255', 99), ('224.0.0.252', 101), ('224.0.0.251', 102), ('224.0.0.1', 103), ('224.0.0.1', 104), ('239.192.152.143', 105), ('239.192.152.143', 106), ('239.192.152.143', 107), ('224.0.0.1', 111), ('239.255.255.250', 112), ('224.0.0.1', 113), ('172.19.87.255', 114), ('239.255.255.250', 115), ('224.0.0.251', 117), ('172.19.85.255', 118), ('224.0.0.251', 120), ('224.0.0.251', 121), ('224.0.0.1', 123), ('239.255.255.250', 124), ('239.255.255.250', 125), ('224.0.0.1', 127), ('172.19.88.255', 128), ('239.255.255.250', 129), ('224.0.0.7', 130), ('224.0.0.251', 131), ('172.19.88.255', 132), ('224.0.0.252', 134), ('37.252.244.69', 135), ('172.19.87.6', 136), ('37.252.244.69', 137), ('172.19.87.6', 138), ('218.150.181.120', 139), ('218.150.181.120', 140), ('224.0.0.251', 141), ('224.0.0.1', 142), ('224.0.0.251', 143), ('224.0.0.251', 144), ('224.0.0.251', 146), ('239.255.255.250', 147), ('224.0.0.1', 148), ('172.19.82.255', 149), ('224.0.0.252', 151), ('172.19.87.6', 152), ('218.150.181.120', 153), ('218.150.181.120', 154), ('172.19.87.6', 155), ('172.19.87.6', 156), ('224.0.0.251', 158), ('224.0.0.251', 159), ('224.0.0.251', 161), ('239.255.255.250', 162), ('172.19.88.255', 164), ('224.0.0.251', 165), ('172.19.88.255', 167), ('172.19.88.255', 168), ('224.0.0.251', 169), ('54.239.186.216', 170), ('54.239.186.216', 171), ('54.239.186.216', 172), ('172.19.87.6', 173), ('172.19.87.6', 174), ('54.239.186.216', 175), ('54.239.186.216', 176), ('172.19.87.6', 177), ('172.19.87.6', 178), ('54.239.186.216', 179), ('54.239.186.216', 180), ('54.239.186.216', 181), ('54.239.186.216', 182), ('172.19.87.6', 183), ('172.19.87.6', 184), ('224.0.0.251', 185), ('239.255.255.250', 186), ('239.255.255.250', 189), ('224.0.0.252', 192), ('172.19.92.255', 193), ('239.255.255.250', 194), ('172.19.87.6', 195), ('54.239.186.216', 196), ('172.19.88.255', 197), ('239.255.255.250', 198), ('224.0.0.251', 201), ('172.19.87.6', 203), ('54.239.186.216', 204), ('224.0.0.251', 205), ('224.0.0.251', 206), ('224.0.0.251', 207), ('224.0.0.251', 208), ('224.0.0.251', 209), ('224.0.0.251', 211), ('172.19.88.255', 212), ('172.19.88.255', 213), ('172.19.88.255', 214), ('224.0.0.252', 218), ('224.0.0.252', 219), ('224.0.0.252', 220), ('224.0.0.251', 221), ('224.0.0.251', 222), ('172.19.88.255', 224), ('172.19.88.255', 225), ('239.255.255.250', 226), ('224.0.0.251', 227), ('239.255.255.250', 229), ('224.0.0.251', 230), ('224.0.0.251', 231), ('172.19.85.255', 232), ('224.0.0.251', 233), ('239.255.255.250', 234), ('172.19.88.255', 235), ('239.255.255.250', 236), ('224.0.0.251', 238), ('224.0.0.7', 239), ('224.0.0.252', 241), ('172.19.88.255', 242), ('172.19.88.255', 243), ('224.0.0.252', 246), ('224.0.0.252', 247), ('172.19.88.255', 248), ('218.150.181.120', 250), ('172.19.87.6', 251), ('172.19.87.6', 252), ('218.150.181.120', 253), ('172.19.87.6', 254), ('224.0.0.252', 255), ('172.19.82.255', 256), ('224.0.0.251', 257), ('224.0.0.251', 258), ('224.0.0.252', 263), ('224.0.0.252', 264), ('224.0.0.252', 265), ('224.0.0.251', 266), ('224.0.0.251', 267), ('224.0.0.251', 268), ('218.150.181.120', 269), ('224.0.0.251', 270), ('172.19.88.255', 271), ('224.0.0.251', 272), ('239.192.152.143', 273), ('239.192.152.143', 274), ('239.192.152.143', 275), ('239.255.255.250', 278), ('218.150.181.120', 280), ('224.0.0.251', 281), ('224.0.0.251', 283), ('239.255.255.250', 284), ('224.0.0.252', 286), ('224.0.0.251', 287), ('224.0.0.252', 290), ('224.0.0.252', 291), ('172.19.88.255', 292), ('172.19.88.255', 293), ('172.19.88.255', 294), ('224.0.0.252', 296), ('172.19.92.255', 297), ('172.19.88.255', 298), ('224.0.0.251', 299)]\n"
     ]
    }
   ],
   "source": [
    "print(dstip_list)"
   ]
  },
  {
   "cell_type": "code",
   "execution_count": null,
   "metadata": {
    "collapsed": true
   },
   "outputs": [],
   "source": []
  },
  {
   "cell_type": "code",
   "execution_count": 198,
   "metadata": {
    "collapsed": false
   },
   "outputs": [],
   "source": [
    "def process():\n",
    "    for proc in psutil.process_iter():\n",
    "        try:\n",
    "            for dstip in dstip_list:\n",
    "                for pcon in proc.connections():\n",
    "                    pcon = str(pcon)\n",
    "                    #print(pcon)\n",
    "                    dstip_value = \"raddr=('\" + str(dstip[0]) + \"'\"\n",
    "                    if dstip_value in pcon:\n",
    "                        \n",
    "                        print(\"process name : \" + proc.name())\n",
    "                        print(\"dst ip : \" + str(dstip[0]))\n",
    "                        print(\"index : \" + str(dstip[1]))\n",
    "                        try:\n",
    "                            print(sniffed[dstip[1]]['TCP'].payload)\n",
    "                        except IndexError:\n",
    "                            print(sniffed[dstip[1]]['UDP'].payload)\n",
    "                        print()\n",
    "                \n",
    "        except psutil.AccessDenied:\n",
    "            pass"
   ]
  },
  {
   "cell_type": "code",
   "execution_count": 199,
   "metadata": {
    "collapsed": false,
    "scrolled": false
   },
   "outputs": [
    {
     "name": "stderr",
     "output_type": "stream",
     "text": [
      "WARNING: Unless called manually, this could indicate deprecated use. Should be changed to bytes(self)\n",
      "WARNING: Unless called manually, this could indicate deprecated use. Should be changed to bytes(self)\n",
      "WARNING: more Unless called manually, this could indicate deprecated use. Should be changed to bytes(self)\n"
     ]
    },
    {
     "name": "stdout",
     "output_type": "stream",
     "text": [
      "process name : Slack\n",
      "dst ip : 54.239.186.216\n",
      "index : 170\n",
      "\n",
      "\n",
      "process name : Slack\n",
      "dst ip : 54.239.186.216\n",
      "index : 171\n",
      "b'\\x17\\x03\\x03\\nG\\x00\\x00\\x00\\x00\\x00\\x00\\x00\\x02\\xe0A\\xb9\\x1f.\\xbc\\x10\\xc5by+\\xab/\\x99v\\x14\\x92\\x80\\x01\\xfar\\xc7\\x88\\t]#\\xe7\\x96\\xc8Z\\xe3\\xe85\\xc0A\\xa7\\xb8y\\xadm\\xb3g\\xfe\\x8e\\xfb\\xf3P\\x97,\\xfe\\x05\\x03\\x8en\\x11\\xbc\\x07qu\\xfa\\x8b\\x0bB\\xe5\\xb7`-\\x9dF\\xbc\\x06\\xc7\\xa0\\xe9\\x06\\xe0\\xb7\\xa6WM\\xcbK\\xd7\\xfc\\xa4\\x9a-\\r\\'{N\\x94\\xcbv|0ND/\\x1aR{a\\xfea\\xfd\\xf9-sI\\x03\\x0e[`\\xa7\\x00A\\x0cbO\\xddo\\x11\\\\\\x96Ny%2\\x1e\\xdf\\xb6\\x12<\\xeeDi\\xc8-\\xf3\\xc4>\\x13\\x15\\xfe\\x1d\\x1c\\xc4\\x91\\xa0_=\\xd8m\\x848\\xa1\\x97\\xa6{;\\xd2\\xb9+L\\x90r\\xf0\\x8b \\x88G@V\\xbea\\xa5\\xeb\\xdb\\x13\\xa3\\xac\\x8c\\x94\\xfc\\x88\\t\\x15PT2\\xa1x\\x104\\x80@\\x88\\xb26*\\x95\\xb5$\\xfbD\\x16\\x1e\\xf3Nt\\x13\\xd2\\xf6R$\\x93q(\\x06&\\x99\\xdd\\xbbv\\x14\\x04\\xe5\\x01-\\xdej\\xc3\\xaf\\x15\\xef\\x16@\\xfbij\\xf4\\xa1\\xaa\\xcfC\\x16\\x02=\\x8a\\xb5\\xb6a\\x0e7&O\\x9c,\\x0b\\xb5\\xd4X\\xcbr\\xf2\\x8aA{\\xc5\\x8d\\x9d\\xcc\\x9b\"\\xc2\\xb9\\x9b\\xe1\\x99W\\x182\\xc82\\xb2\\xb2\\x86on~!\\x1d\\xbeA\\xc8l6\\xe3:\\x05\\xc4\\x92\\x1a\\x7f\\xe2e$\\xb1/Eb\\x07U\\xbbU\\xb6\\xa5\\x1e{\\xa3\\x1bAC\\xb9\\x0b\\xa0\\xdf\\x1e\\xc8\\xf7\\xc1\\nK\\x89v\\xe8j0\\x1a\\x02~G\\x10\\xa2K\\xe7\\x17*\\x06#\\xf5\\xb6\\xea^\\xb1i\\x1a\\xc5\\xb4P-\\x97xX\\xee\\x0f2F,\\xc1\\xdbN\\xfa\\x10\\x0b\\xd2\\x0b\\xec\\xa8\\xff\\x94t\\xbd\\nWy\\x19z\\xfb\\x991#\\x03)\\xff\\xfb\\xf9\\xad\\x16@\\xd2\\xf0\\xce\\xb5g \\xf1</\\x81\\x89\\x1c\\xce\\x96\\x18\\x99\\xee\\xba\\xcdK\\xe3\\xf1~\\x8d\\xbe\\xc9\\x8b\\x81\\xe8H\\xda\\x10\\xc97f#\\xb2\\xe0\\xe7k$F\\xb6\\xb2\\xaf\\xdfa\\xc0L)c\\x82\\x7fS(\\x03\\x1c\\xfcr\\xdb\\x8a \\xd2L\\x80\\xbd\\xf3\\xf8\\xa8\\xaa\\x7f\\xa5(bG\\xd7q\\n2\\r\\xf1\\x1f\\xf1\\xffF]\\x9e\\'*\\xaaGS\\xd7Ocq\\t\\xa5\\x1e\\xa3\\x06-\\x84WLP\\xb5\\xdf\\xb9>\\xba\\x1a\\x16\\xfaX$2\\xd6u*|q\\xff\\xb4;*0\\x8ed\\x17x\\x9eK\\xearF\\xb1=q\\x93\\xa8\\n\\xebSNB\\xbe9\\xe4&75O\\x0c\\xf3\\xfb\\x17\\xff\\x9e\\x133^\\xf9\\xe4~\\xd4w\\x93\\x85\\xd8\\xad\\x80R=\\x9b\\xf2q\\xaa\\x97\\x87\\x8a\\x17\\xc4\\xf3i\\xc5\\x0e?\\xc1y\\xe1\\x97\\xfc\\x173&\\xea\\x899\\x9d+Z\\xef\\x8a;\\xb3\\\\\\xb2\\xc2\\x1dTL\\xb4\\x18\\xac\\xe6\\x03\\xc8}8D\\xa9\\xedAe^\\x92\\xb4\\xf1\\xc1\\x1d\\xd7\\x14Y:(\"\\x1d\\x98\\xc2\\xb2R\\x85oW\\xd8Tm\\xa4\\x82\\xd92\\xe3.\\x81\\xb8\\x85\\xab\\xe4\\x80\\xb4q\\xee\\x9e\\xcfO>\\xaa,\\xb2q2\\x02.\\xa8\\xf3\\x9ct\\xc8M\\xd9\\x9c\\xa1\\xe6\\x04G\\xbd\\xc9\\x95X9\\xc1uv\\x98\\xeev\\xc2`\\x86\\xce~\\x9a\\n\\xd4\\x84\\x14\\x91@\\xf5y\\xcf\\xee\\x8f\\x8e\\xa3:}O\\x87^\\xdc\\xb2\\x8an\\xd6\\x82\\x83\\xdd!/\\xd1\\x19L\\x06\\xee\\x9a\\xbd\\x90u+\\x1b/\\xb8@\\x81\\x10\\x07\\x8c\\xfdb`A\\xf1?\\xf3n\\x9b 1\\xab\\x1b\\xfb\\'7\\\\&\\x17J\\x9fb\\xa9}$\\x06\\x0b\\xe4\\x9b\\xbe3\\x9ap\\x04\\xb2\\xe2\\xcb\\x9aU\\xae\\xce\\x16\\x90\\x07\\x87\\xe9\\x12\\xf6\\x96\\xb6\\x94\\xc0\\xe1vNGI\\r\\x8c\\x8a|\\xb5!VS\\x92\\xacB<\\xfc8|\\'\\x80\\xb5\\x82\\xf9\\xa0\\x01\\xe0\\xdaD~\\xc5\\xbe\\xd2\\xb9bDT\\xa5\\xcb\\xed\\xd7Q\\xaa\\x84\\xb6\\xea\\x9c\\xaagF6\\xf8\\x9b\\x1b+?H6&\\x16\\x82J\\x15Z\\xec\\x82\\xa3\\xe5\\x80\\xc6X\\xd6(\\x81\\xfesD\\xf3\\xe0\\xa5\\xb2\\xe1\\xf6\\xdeU\\x94\\xe8;\\xfc\\x8a\\x8e\\xfa\\xaf\\x16\\x86P\\xf5\\xffR\\x97\\xb3\\x97k\\x80\\xf7u\\x83\\x99\\xe1\\x1e\\x81*w\\x82\\xeeq\\x8a\\xcd\\x05\\xc5\\xa6\\x95G\\x88\\x1b\\x9d\\xf6!\\xa9\\xfar,\\x11}\\x9d\\xc5S\\x902\\xdf\\x94f\\xb2)\\x81\\xac6\\x14\\xac\\x1c%\\x97\\x81B\\x9eb\\x08\\x11_\\xf4\\xbat\\xb8\\xbe6\\xe7\\xdcX\\x08\\xebs\\xc0+h,_-7\\xa0$HO\\xec)1u\\x12\\xc6\\xe05\\xf7\\xf7}As\\xa0\\x8f\\x087\\xf8\\xc1\\x82\\r\\xe7\\xa7\\x8c7\\x15.r\\xe5\\xf3\\n\\x9dm\\xe4\\x84A\\xb4\\xc9D#\\x12\\xac\\xdd\\xf4\\xd9\\x90\\xb0-\\x85D\\xa0\\x9e\\xd1\\x88\\x9e\\xe5:;\\xfd\\x87\\xc3\\xd4\\xf2:2@\\xac\\xdc\\xd3\\xa3tO\\xec\\xb4@\\x836\\x9d\\xb7\\x93T\\xa5\\xd9n\\t\\x83\\xf0\\x12\\xf2\\x14\\xdeE\\x07c<hN|\\xbe/\\x7ft<\\xd4\\xd82\\x7f\\x1e\\x89y_4\\x7fS\"\\xbcH\\x188\\xe1\\x93\\x1b\"0=\\x80\\xc1\\t\\xd5n\\x00=U\\t\\x99\\x90\\xf7C:9:\\xdd\\x00\\xe9\\xf8S\\xad\\xda\\xc8\\x1b\\xcd\\x04vf*\\xfaVoM\\x8e\\xfaa\\x1aB^^\\x03\\x85-\\xa8\\xa1 \\xb6B5\\xafi?/\\xd8X\\x019\\xb0\\x85\\x81\\x0c\\x1e\\x14\\x04^\\x90\\xbd\\x01\\xb6$\\xab\\x8e\\x87[*-\\xb6H\\xb6\\x1f\\x90AfjT6\\x08\\x8b\\xe8\\xcc\\xd7\\xb6\\x96\\xa6\\x8f\\xbd;1\\x16/\\xf0\\x01G\\xcf\\x9b\\xd7\\x10\\x8aR\\xca\\x16\\xf8\\x84\\x9dK\\xef\\xb8gKD\\xdf\\x1d\\xe5\\x062>\\xc2V\\x03\\x1bs\\x00-=\\xe2\\xb50%7W(:\\x81\\xd9\\xc7\\x90G^\\x07\\t\\xa7P\\xa2\\x8f5\"\\x97\\xc4\\xab\\xacU\\xb4\\xcd\\xd0%4\\x88\\xf2\\xeexq\\xc0~u\\x0f oY\\x19\\xe5\\x8c\\xf6}p\\xda@R\\x84\\xec\\x8c\"\\xa4y\\xa4\\xc3\\xc87\\xe9&\\xc5LB\\x9aA\\xd1a\\xf1\\xbf%G==\\x97h3d\\x9b@\\xef\\x94\\xf4\\x15<\\xfc\\x8e\\xe2\\x17\\xd3?Cf\\xa3\\xe0\\xd3~\\xe4\\xa7\\x88\\x17\\xab\\x15\\xaf\\x01i!\\x821\\xeb\\x7f\\xd8W\\xde\\x10\\xe3\\x12r\\x00fL1A\"Vh\\x01\\xbe\\xd3\\xd1(\\x97\\xfe\\xea-\\xe8\\xab\\xa0+\\xc5\\x908\\x04\\x99\\xbdl\\xcf\\xb87\\xe1\\xa57\\xbb2k\\xf3\\x1cI\\xd8\\x85R\\x16\\xee?\\x86\\x1d3 \\xe1\\xe9\\xab`\\xcdI\\x12\\xd7\\xc7\\x97\\x91[4-\\xb3\\xb3\\xa0\\xe7'\n",
      "\n",
      "process name : Slack\n",
      "dst ip : 54.239.186.216\n",
      "index : 172\n",
      "b'\\x02\\x9brH\\x16\\xd4\\x00sF\\xa9\\x92\\x05\\x82\\xf1\\xfaL\\x02\\x99\\xce\\xb6K\\xf56_\\x9a\\xfd\\xd0%u\\xf5\\'U\\xb4\\x81\\xe6\\xf4\\xcdg \\xa2\\x99\\xca\\x1aJd\\x12\\x86\\xc5)\\x1f\\x9a9\\xa4`\\x8e\\x8e\\xe7H\\x9aU=\\x06_`d\\x91\\x07c\\xe1%!\\xa4\\x95\\xf8@\\rU\\x8a\\x93\\x8c\\xa4\\xb2\\xc0\\xa7\\xaec&<\\\\\\x15\\xecq\\xbb5\"@\\xb0D\\xebt\\x80Y\\x02\\xd8\\x10\\x96\\x9cD{\\x1a|\\xa5Z\\x93\\xfaHI\\xbaCQl\\x14l\\x10\\xb0MY\\x0e|\\xe3\\x19\\xe5O%<\\xf8\\x81I/*\\xedJ\\x06\\xf9\\x16wW\\x9d\\xfd\\xfe\\xc8\\xc9\\xbf\\x08\\xedW\\xc3\\xf4\\x9a%\\x1a\\xb1\\xbbmE\\xc5\\x16\\xd1fq\\x96\\x99UO\\xc1\\x01\\xaa\\xd6KH\\xe5\\xf4#y\\xd5Qs\\xea0\\xca\\xec\\xb5k2\\xbb\\x93\\xee|\\x05\\x86\\xa3\\x1c\\x81L\\t\"&\\x89\\xc0\\x0cc\\xa3\\x01Q\\x93\\\\\\xe8\\xac\\x01\\x99VG\\x85\\xc4\\xc5\\x95\\x14\\x9e*8\\\\\\x16\\xdeLqg\\xb4\\xd1\\xef\\xc9\\xe8\\x87\\x92\\xc3e\\xfbA\\xc3\\x8d\\x80]\\x8c\\xc2K\\xfc\\xa4\\xb3F\\t\\x17N\\xb2\\xde)\\xe3\\x91\\x1d|\\xed\\x89\\x81\\x89\\xa8\\x8dE\\xfc\\rriGBt\\x19R\\xc6\\xc3\\x90h\\xbfu$^\\xd0\\xd3\\xc2\\x86\\xb3\\xd3j\\xef\\xae\\r\\xf5\\xfa\\xada\\xa1\\x8b\\x90\\x08J\\x88k\\xff3\\xbd\\xa3\\x81#\\xea\\xc2\\t}\\xc1ep\\xd3\\xa6\\x93\\xcd\\xf9\\xe9\\x11Q\\xbf7\\x96kq\\xfd\\xb8\\xeaL\\xe7\\xb5$>#:\\xd9\\xf0\\t6\\xc2\\x9e\\xc2\\xb7\\xbd\\x1e\\xd7\\xa0C)@\\xb0Q#\\xa6\\xb8\\xae\\x17\\xed\\x9d\\x86W>r\\x9d3\\xed\\x18\\x9e&~k\\xe5\\x9fQ \\xd7kVI\\x91\\x90JP\\xb0\\xe5\\x9cs =\\x0fl\\x83\\xc8\\x15\\\\fs8\\xf0q\\xf4\\xba\\xca5m\\xbe\\x7fqt\\x8d\\x0e4\\x01\\x02\\x9e\\xda\\xd8\\x05Dj0\\x833\\x00\\xc3\\x7f\\x19\\xd2?r6|\\xc0`\\xd3d\\xbe\\x11\\xbc1;\\xff\\x9f\\xd6\\xb5\\x1e\\x16\\x04&3\\xc6\\xfe\\x1f\\xff\\x90\\xce\\xba#\\xa1t\\xca\\x91\\xaf\\xa8\\xdd\\x06o\\x07\\xf3\\xd5\\x1c^iX\\xb6%\\xe1\\xe0\\x03\\xdd S\\xa4\\xf8\\xa5\\xdc\\xb6%\\x8e\\xb7\\xb8\\x8dV\\x0f\\x87\\x8b\\x95D\\xf8\\xe6#{_K\\xf4\\x07\\x8foxG|\\xba\\xb4\\x0ev\\x17|a\\xb4(\\xbb.\\xa24=\\xd5u\\xf6\\xc4g%gU\\x17\\rN\\xb6\\xe3,\\xf7f\\x18\\xa7\\xf7\\x96\\xca\\x88v\\xf8\\xefh\\xd3@\\xb9\\x94\\xbdg\\xe3\\xcc#\\xf8,\\x0b1^\\x06\\x99\\x13gcM+\\x9e\\x1e\\x10\\xdb\\xf7\\xf29\\xd1f\\xc2\\xf3\\x8a\\xb8r\\x98\\xff\\x1b I\\xeeI\\xc5\\xbc\\xa6L\\xbb\\x1c\\xe1xe,\\'\\x1f\\xe9\\xb3h\\xc3\\xb1\\x05\\xf2\\xaf\\x8cLj!\\xc3\\xe2Q\\x8c\\x17\\x8bn\\xe2&\\x8f\\xb1\\x88\\xed\\xca\\x94Uy\\x9f/\\x04\\x8a\\xfb\\xf1\\xfc5\\x9eSEu\\xf2\\xeb\\xfe\\\\\\\\\\xf6J\\xec\\xd1\\xa4q:\\t\\x95\\x83}\\xe0C\\xdc\\x01\\x035x0:\\x81f\\xcd_$\\x0cD$X\\xf1\\xf9b\\x87\\xcb\\xce?\\xa8\\x19\\xc655^\\xe5\\xd9E\\xb7\\x8eK\\x94`\\xd0=%\\x0bI\\xad!2\\x8b\\xd6\\x93dM\\xbb\\x11l\\xab\\xf0\\xc5L \\xe8k.1$\\x8e[\\x89h\\x03#\\xb7?Y\\x8d\\x87\\x06\\xc8{\\xdb\\xfc\\xaet \\x86\\x91\\xedj\\xcc~\\xd1\\x1b\\x02\\x1d\\x1f\\x01e\\xafp\\xef\\'\\xf3>\\xda\\xab\\x8aG\\xf8\\x05\\x840A \\xb7\\x9d\\xd02\\xca7VC\\xb5\\xc5\\x96\\x10\\xbc\\x7f)\\xad36<\\xb6s@\\x0e\\xdd\\xa2\\xffo\\xf9\\xd6\\xfa`1!`\\x87\\x1dp\\xf1\\xe9K\\xdci\\xc2\\xbcx?\\t\\x96\\xb3\\x01{\\x80\\xa5+\\xff\\x19#&\\x80Q\\x9e\\xb6\\xd3\\x80\\x16TS\\xa8\\xd1-\\xdd\\x04t\\xe8\\x1a\\xcf\\xf2S|\\x9a_\\x8f\\x03\\x86\\xb2q\\x8b\\x87\\xc8&\\xb2or\\xc5bG\\x00\\xe7/(mF\\x14\\xbc\\xca\\xc4\\xdc\\x9cb\\xd6\\xcf6\\xad\\x9fU\\x8c\\x86BSb\\x9a\\xad{\\xecG*V\\x06.[u`\\x80e\\xe9q\\xe2UQ5W\\x02\\x16\\x8ay\\x9f\\x84\\xa7\\xbe\\x02\\xca\\xd3\\x9dy\\xc7I\\xabCt\\xda\\x19D(\\x8a\\xa7\\xba\\xa4],\\xa7Z/*\\x11J\\\\\\x03_\\xfbS\\\\\\xf8\\xab\\t\\xb5\\xb8=\\xb3\\xc6\\xf4\\xa0k\\x8b{\\xfa)\\x19:q\\x83\\x8f\\x93\\x83\\x07\\xccn=J\\xe2\\xdb\\xb7@p\\xad\\xcaNN\\xc6\\xb0\\r3_\\x0f\\xe9s\\x81{r\\x16\\xc1\\xc0\\xb7\\x16+\\xfe\\xfdQ\\xc6\\x02\\x9c\\x06A\\nrA\\xa4:#\\xb4\\x11\\x0e\\xe8\\x0b\\xbb*`_\\xac\\x12\\x8f\\xa0@\\xd4\\x8f;\\xee\\xd8!\\x9a\\xd2p\\xbebb\\x0e\\x9fX\\xf9Zu\\xf5\\xae}\\xa8\\xd6\\x1bj\\x9e\\xca\\xef\\xc4\\xcf&\\xa8\\x14\\xaf\\x00\\x96^xv\\x00\\xb7\\xc7v\\xa1b\\xdb\\x16]\\x80x\\xb1>\\xfe\\xf7\\xf4\\n\\xcc]\\xfa\\xcf1\\xd3r\\x9e\\xb7jp\\x80\\xccU\\xa7\\xb5\\xd4\\xf7\\xe3\\xbfig1P\\x1b-\\x81\\x14V\\xd8lW\\x91luE\\xdc\\xc2F\\x1a\\x93wX{\\xd0#\\x0fM\\xf2\\xe7k|\\\\\\xdd\\xa9U\\x10\\xb6\\xab\\xc0\\t\\x8d\\x8a\\xd3c\\xff\\x9a\\xea\\xba\\xff\\x85\\x05\\xa3\\xfcA\\xa7\\xb2\\x19/\\xdd\\xd0'\n",
      "\n",
      "process name : Slack\n",
      "dst ip : 54.239.186.216\n",
      "index : 175\n",
      "\n",
      "\n",
      "process name : Slack\n",
      "dst ip : 54.239.186.216\n",
      "index : 176\n",
      "b'\\x16\\x03\\x01\\x02\\x00\\x01\\x00\\x01\\xfc\\x03\\x03\\xbf\\xa5\\x93aj\\xd0\\xa1\\xe1\\xfd\\x1eOM\\x87\\xf3\\x11mZR\\x8b\\x9b\\x88c\\xb6\\xb0\\xbf\\xa6\\x0e\\x89\\x02\\xd5\\xfbv \\xc0\\xc4]\\xa2\\x1cs\\xb3\\xd5\\x18\\xb2\\xa2+~f\\x00%\\x1eC\\xf3\\xc7/*\\xb0\\xa9\\x9f\\x9f\\x13q\\xc1\\xddZ\\x98\\x00\"\\xc0+\\xc0/\\xc0,\\xc00\\xcc\\xa9\\xcc\\xa8\\xcc\\x14\\xcc\\x13\\xc0\\t\\xc0\\x13\\xc0\\n\\xc0\\x14\\x00\\x9c\\x00\\x9d\\x00/\\x005\\x00\\n\\x01\\x00\\x01\\x91\\xff\\x01\\x00\\x01\\x00\\x00\\x00\\x00\\x0e\\x00\\x0c\\x00\\x00\\tslack.com\\x00\\x17\\x00\\x00\\x00#\\x00\\xb0\\xc5\\xcd\\x1b\\xcb\\xa2/\\x06z2\\xea\\n9\\xb4\\xad\\x13c\\xd9 \\xe3;\\x05v\\xcc\\x9c\\x0e\\xf1\\xf4i\\xc1U(\\xc5fd\\t\\x9ee\\\\1r\\x9e\\xb3ka\\x9eCvU8\\xe1\\x7f<T\\x04\\r\\xda\\x15ll\\xd2fp\\x05\\x9et\\x16\\x13\\x19\\x13\\x85F\\x1b\\x7f?\\xc8>\\xe3\\xe7\\xc0\\x0e\\xce\\xb2W\\xfd\\xd5`\\xd9\\xa6\\xfc\\xae!\\x12m\\xb5\\xf6b\\x95\\x14*lew\\x9b\\xff\\x08\\x04Qn\\xd2\\x12y\\'\\x1c\\xd3gI\\xd7>\\xc2\\xb4\\x93\\x84o~\\xcf\\xa4n\\xe2\\x97&\\x02)\\xc8X\\xede\\xb3A\\xa1\\xc7\\xb2\\xf4 Q7k\\xe0\\xd0A\\xe81\\xa0Kr\\xe2k\\xc1\\xd5\\xf6\\x13\\xdb\\xac\\xd6T\\xb9\\x84\\xf9\\xd2\\xab\\xa4\\xba\\xbf)vra\\x00\\r\\x00\\x12\\x00\\x10\\x06\\x01\\x06\\x03\\x05\\x01\\x05\\x03\\x04\\x01\\x04\\x03\\x02\\x01\\x02\\x03\\x00\\x05\\x00\\x05\\x01\\x00\\x00\\x00\\x00\\x00\\x12\\x00\\x00\\x00\\x10\\x00\\x0e\\x00\\x0c\\x02h2\\x08http/1.1uP\\x00\\x00\\x00\\x0b\\x00\\x02\\x01\\x00\\x00\\n\\x00\\x08\\x00\\x06\\x00\\x1d\\x00\\x17\\x00\\x18\\x00\\x15\\x00s\\x00\\x00\\x00\\x00\\x00\\x00\\x00\\x00\\x00\\x00\\x00\\x00\\x00\\x00\\x00\\x00\\x00\\x00\\x00\\x00\\x00\\x00\\x00\\x00\\x00\\x00\\x00\\x00\\x00\\x00\\x00\\x00\\x00\\x00\\x00\\x00\\x00\\x00\\x00\\x00\\x00\\x00\\x00\\x00\\x00\\x00\\x00\\x00\\x00\\x00\\x00\\x00\\x00\\x00\\x00\\x00\\x00\\x00\\x00\\x00\\x00\\x00\\x00\\x00\\x00\\x00\\x00\\x00\\x00\\x00\\x00\\x00\\x00\\x00\\x00\\x00\\x00\\x00\\x00\\x00\\x00\\x00\\x00\\x00\\x00\\x00\\x00\\x00\\x00\\x00\\x00\\x00\\x00\\x00\\x00\\x00\\x00\\x00\\x00\\x00\\x00\\x00\\x00\\x00\\x00\\x00\\x00\\x00\\x00\\x00\\x00\\x00\\x00\\x00\\x00'\n",
      "\n",
      "process name : Slack\n",
      "dst ip : 54.239.186.216\n",
      "index : 179\n",
      "\n",
      "\n",
      "process name : Slack\n",
      "dst ip : 54.239.186.216\n",
      "index : 180\n",
      "b\"\\x14\\x03\\x03\\x00\\x01\\x01\\x16\\x03\\x03\\x00(\\x00\\x00\\x00\\x00\\x00\\x00\\x00\\x00\\x8d\\xbd\\xe0\\xe9\\n\\xce'\\xd0\\xad\\xb0\\xbb\\xd3\\x07%\\x0c\\x8bI#Y\\x15\\x01T\\xde\\xed<\\xe5\\r\\xc3\\xf8\\rmW\"\n",
      "\n",
      "process name : Slack\n",
      "dst ip : 54.239.186.216\n",
      "index : 181\n",
      "b'\\x17\\x03\\x03\\x05\\xad\\x00\\x00\\x00\\x00\\x00\\x00\\x00\\x01Y\\xe6\\x10+o\\x1d\\x05\\xcba\\xa4\\xd0\\x83\\xf0.\\x1ad\\x96\\xcah}\\x14,\\xbc\\xca\\xe6:\\xb1#\\xca\\x15\\x0b\\x1b\\x9f\\xacocL\\xa9\\x0e\\xc6\\xba\\xec\\xb86[\\xf0\\xdf\\xed$\\x8f\\xea\\xd0\\xa22[\\x99U\\xd6~\\x1a\\xd1B\\x07\\x82\\x04\\x8d%4\\x1a0T\\xae\\xca\\x8c\\x8e\\xdc\\xa9\\xdd[\\xdb#\\xa2\\x7f\\xb8\\xee\\xd9Vp\\xdd+d\\x0f\\xc3\\xb2q\\x1c5\\xbe\\xe8!\\x97\\xee%\\x94qp\\xc6\\x16\\x9d\\x11z\\x1b\\xfcs(\\x14\\xc8\\x16\\x1c\\xae\\xba\\x17\\xcb\\xeam\\xd2\\x1do\\x8fhK\\x03i\\x17\\x0f-h\\xd5\\xf7\\x83\\xf5\\x112\\x93\\x04d\\xb3\\xb7E\\xe4\\x0bL\\xdf\\xc06\\x10\\xc0&\\x86\\x15t\\xa2\\x04G\\x0c\\xd1V\\x98\"+\\xd9\\xa2\\xebM:\\xad\\rV\\x9aJ2\\x15\\x13F\\x08\\x0ep\\xa0A\\xda\\xd8\\xf9\\x80\\xbcH\\x89a\\xc3\\xed\\xec\\xf6\\xc1\\xb7\\x05\\xf8\\tk\\xabJ\\xd5i\\x11\\xeb\\x8e\\x96\\x85C\\x0e\\xde\\xab\\x83\\xa5\\x17sI\\xb8\\xd0H\\xdd\\xdb\\xc9\\xe8\\x90\\xb3\\xa8\\x0e|!*ky\\x19\\x12\\xe4\\x90\\xf2{\\xea\\xed\\x91\\x1f\\x18\\xe6\\xce\\x18\\xe6\\xdb\\xc3\\xc9\\x8ck.\\x02IA\\x8es\\xa6_\\xf7]\\xef\\xac\\x10\\x9f\\xaa\\x83\\x02X\\xdf\\xbc\\x11\\xc3p7\\x1a8\\x7ft\\x9a\\x89Y&\\xc2\\xfe\\xfb\\x08\\xa9\\x84i\\x8f\\xeb>\\xdc\\xb6\\xb8\\xa3\\x8f\\xc5\\xd8&\\xd3\\r\\x17\\xa0\\xf9\\x83v\\\\_`\\x12\\xe2 \\xfcF\\xd8Q\\xa3\\x9c\\x0f\\xa0\\xfc\\xca\\xdf\\xe0\\xb95za\\x01\\xc5\\t\\xf6\\x7f\\x99$\\x9d;\\x9a\\x00P\\x9bTv\\xee\\xf9\\x17\\xd1MF@\\xdc\\n/\\x1e\\xb1\\xb8OX\\xde3\\xd9\\xe9G\\xe1R\\xaf\\xa8\\x1c\\xc3i\\x11\\xae*\\x15\\x93\"\\xaf<\\xb0\\xaf\\xd2I\\x16R\\x97\\xb4\\x8eK,3\\xbf\\x10\\xf5?y\\xfc@\\x87\\xef#\\xff\\x80\\xc7\\x10\\xcb\\x996\\xbd^3\\x9c\\xdb\\xb1\\x00\\x03\\xa9\\xd2\\xca\\xe8\\xa2\\xa4K\\t\\xdc0\\xff3\\xa1K\\xb2\\x11\\xdc\\x91\\xe4\\xce\\x8d\\xcc\\xde#M;qN\\xce|\\x1dm\\xe3\\xd7 Q\\xa0\\xf6\\xf7.\\xf7\\xa9\\x18C\\xfcN\\xbdT]\\xf9\\xf6\\xa8\\xd6\\t\"\\xc2\\x90\\xbcL{\\xfe\\'z\\xc6\\xccz\\x849\\x99\\xdbbp\\xb2\\xd9#\\x83i\\x9eL\\xf4\\x19\\xea%AU\\xb2\\xd1#\\xe4\\x8a@\\xeb\\xa7\\x05-\\x048\\xb3\\x94\\x1f\\xf4\\x0eg\\xea\\x8c\\xb5\\xf5l\\x1a*Rt\\xb6VFa<\\xc7,j\\xa3A\\x96\\x91\\x85\\xa8\\xf4\\x87\\x02\\x0f\\xd8\\xcc=:\\x05\\x0e\\xdb-\\x01%\\xfca\\xb7\\x0f\\xe2kU\\x0f\\xdd^\\xd8\\xadvn\\x02\\xf8\\x82\\xe0\\xf1?\\xa5\\xfd\\xf1\\xcd1\\xf8\\x00\\x8a\\xe6\\tT\\x85\\xac\\x8a\\x16/\\x87\\x1f\\xb6fyQ\\xaa\\x0f\\x83J+\\xb5)O\\xa7gT:\\xb0\\xff\\xd0\\xdct\\x158\\xf3<s\\xfd^\\xa8\\x94\\xf9v\\xbe:JQ\\xf1\\xc8L\\x1a\\xa2-]\\xe7\\xd2\\x7f(\\x9dd\\x0c\\x82\\x0f\\x83\\x05;|\\x02\\x8dH\\x9f\\xe3@j\\x07\\x03Nn\\xeb\\x87I=\\xed=\\xdc\\xaf\\xae\\x9b\\x11\\xed=\\xf5\\x15\\t+R8\\x8f\\xcf\\x0e\\xca+\\x02\\x8a\\x83\\xfc\\xca\\xe9m\\x15\\x9cs\\x8f\\xa3\\x8d\\xa8\\xd8;YJ\\xf9>h8\\x1a\\x8c\\x06\\\\\\x16:b\\x04\\xb6\\x0b*\\xe6\\xe1\\xc6\\x0c[/\\xf6\\xcd\\x9b6\\xa908I\\xce\\xb0\\xa6A\\xd6\\x1a\\xdd\\xbe\\x94\\x96/\\x04\\xa4\\x81\\xc9\\xd5\\x8b\\x0f\\xf6\\xdbM+08\\x8e\\x0e8\\xc4\\xfcM\\'\\xc8\\x96prV6(;\\xd3\\x1df\\xfcO\\x1e\\x16i\\xf2\\xdc\\x08:9\\xbcp\\xb3}-I?\\x0b\\x8ar\\x1a\\x0f\\x811y\\x0f\\xac\\xbf\\xc82\\x81\\x15\\x00M\\x18b\\xd1\\xa7~\\x95)\\x13\\x8f\\xa8\\xe5S\\x7f|\\xf1_D\\xa9\\xde&\\xa4\\xb8\\xc6\\x90\\xdfh\\xbfG\\x10\\xde\\n\\xc0\\r\\x06f\\x11\\xdf\\x1c)-\\xcb\\xef\\xd4\\xd2\\x9d\\x1b\\xccq\\xa1\\xb5b1\\xdb\\x03\\x96\\xb6\\xbbt\\xc7\\x00\\xbc\\xb2\\xb5\\xdc\\x92\\xa8\\'\\x8b9\\xa1\\xfc\\xed\\xe8\\x8f\\xd4\\x89)$b+\\xbb\\xf1\\xa8:v9\\x8c\\xb3!\\xe1#R[&\\x19h\\xce\\xd0\\xe6\\xb4Q~\\x97\\xc8\\x07\\x19P\\xcf\\xcd\\x18\\xef\\x83\\xd8\\xd4\\xd4\\x8b&\\xc8E\\xe2\"\\xf7\\xecI\\n\\x85Rl\\x9bv\\xaf\\x0e\\xc5V\\x86\\xc1\\xd7\\xad2|\\x11e\\x93VWz\\xfc\\x1an\\x8eE\\xb5\\xee\\x1eh\\x12}A\\xa3\\x0e\\xd3\\xf9\\x12h\\xb8}\\x86\\x89$\\xfc\\xa3\\x89\\xc6&\\xabok\\xea\\x9fc\\x0b;\\xfc\\xe0\\xab\\xe3\\xd3\\xb7<h)AlU\\xe6\\x9ah\\xa1\\xfb\\xc3\\x85\\xea~\\x15\\xc7\\xe3\\xbb-v\\x0c5\\x97\\xf0\\xf7\\xa7\\x0f\\x1c\\\\\\x91\\xf2\\xde\\xfb\\xd6\\xb9\\xd9\\x80\\xd0SvL\\x9bkK\\x91\\x0cN\\x81\\x907/d\\xc5@\\x10\\\\\\xdaii\\xf3\\x10\\xad+\\xfe\\x9f3\\xb5\\x9aM\\xa2\\x11\\xba:\\xbeG\\xecZ\\xa9 \\xd6\\xe6D\\xd3$\\xb1\\x99I\\xfcfG\\xbfe\\xc3\\x18\\x88R\\x12\\xb1U\\x0eg\\xae\\xc5L\\x08\\xe3)ikQ\\x9d\\xd9k\\xccs\\xb6\\xeb\\x8d}&\\xe4\\x82;\\xf6q\\x9c\\xb2O\\xe5\\xd7\\xb2\\xaefc\\xe4\\xb0\\x84\\x04T\\xbfI\\xb3\\xd3\\xab\\xb5\\xebi\\xa8\\x19\\xde\\xa8\\x920\\xff\\xc3S\\xcf\\x0b\\xb5I\\xebN\\xe8\\xf5\\ty\\x8a\\x98\\xfa\\xf8\\xda^\\xaa51F\\xac\\xfc\\x99U\\x1d\\x06\\x1f$f\\xda\\xd8B\\xeb\\r\\x01\\x81\\xa4\\x8c\\x95\\xe2\\xe3IF\\x9f\\xd4O\\xac\\x08.%\\xc3J\\x8bv\\x0em\\xe1\\xc4\\xa8\\xb0\\xaa\\xd6=\\xa3F\\x84\\xf55\\xde\\xfa\\xc7V:Z\\xf8\\xb8\\xb3\\xbd\\xa5\\xdau-\\x05,\\xbc\\xbc\\x80\\xe1\\xcb\\x8a\\xb2\\xf0\\xd83\\xceHY\\xa1$\\x1f\\xaa7\\xf1\\x95\\x0e\\xa3\\x8c\\x93\\xc6lp7\\xc7\\xe8\\xed\\xcd=\\xbc\\x8c\\x85Cp\\x18\\x1ba \\x10{\\x99\\x08\\xac>\\x19\\xae\\xbe\\x07s\\xf6x^k\\x0e\\xb1\\x06}\\x82\\x8b\\xf3I\\x8a\\x16\\xd8\\xcf\\xa2\\xa1\\xcaI\\xc8\\xd4 \\xa1\\xba\\x0645\\xa2+\\xf6\\xa8\\xde\\xf8B:\\xe3\\xb2\\xab\\xab\\x86\\xe3F\\xca\\x87\\xb2\\xc1\\xd1\\xc2\\xe0\\xedB\\x88\\x0cK\\xbagG\\xe2\\x1a\\xb3a\\x7f\\xdc\\x94\\xcf\\xc5\\x87F\\x97k\\x1ff\\x19^\\x12\\xee\\xfcL\\xcf:\\xdc\\xa9\\x80\\x03?\\xb9\\xd6g\\xf0\\xea\\xe9\\x97O\\x12\\xa9\\x9e\\xa7\\x1f\\xa0_I\\xc7\\x14LHc}oK\\x9f\\x0b\\xeb}f\\x11X9WU\\x80\\xe9|&\\xd3S\\x05\\x8b\\xd8\\xb1\\x97\\xaebV'\n",
      "\n",
      "process name : Slack\n",
      "dst ip : 54.239.186.216\n",
      "index : 182\n",
      "b'\\xdb\\x86G\\xe8\\xd13\\x80(\\xc63'\n",
      "\n",
      "process name : Slack\n",
      "dst ip : 54.239.186.216\n",
      "index : 196\n",
      "\n",
      "\n",
      "process name : Slack\n",
      "dst ip : 54.239.186.216\n",
      "index : 204\n",
      "\n",
      "\n"
     ]
    }
   ],
   "source": [
    "process()"
   ]
  },
  {
   "cell_type": "code",
   "execution_count": null,
   "metadata": {
    "collapsed": true
   },
   "outputs": [],
   "source": []
  }
 ],
 "metadata": {
  "kernelspec": {
   "display_name": "Python 3",
   "language": "python",
   "name": "python3"
  },
  "language_info": {
   "codemirror_mode": {
    "name": "ipython",
    "version": 3
   },
   "file_extension": ".py",
   "mimetype": "text/x-python",
   "name": "python",
   "nbconvert_exporter": "python",
   "pygments_lexer": "ipython3",
   "version": "3.6.0"
  }
 },
 "nbformat": 4,
 "nbformat_minor": 2
}
