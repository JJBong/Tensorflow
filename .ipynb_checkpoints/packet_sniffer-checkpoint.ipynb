{
 "cells": [
  {
   "cell_type": "code",
   "execution_count": 1,
   "metadata": {
    "collapsed": false
   },
   "outputs": [
    {
     "name": "stderr",
     "output_type": "stream",
     "text": [
      "WARNING: No route found for IPv6 destination :: (no default route?). This affects only IPv6\n"
     ]
    }
   ],
   "source": [
    "import threading\n",
    "from scapy.all import *\n",
    "import psutil\n",
    "import pymysql"
   ]
  },
  {
   "cell_type": "code",
   "execution_count": 2,
   "metadata": {
    "collapsed": false
   },
   "outputs": [],
   "source": [
    "class packet_sniffer():\n",
    "    def __init__(self, sniffing_duration, start_id):\n",
    "        self.sniffed = scapy.plist.PacketList\n",
    "        self.sniffed_len = 0\n",
    "        self.sniffing_duration = sniffing_duration\n",
    "        self.start_id = start_id\n",
    "        self.sniffed_info = dict()\n",
    "        self.sniffed_info['idpackets'] = list()\n",
    "        self.sniffed_info['timestamp'] = list()\n",
    "        self.sniffed_info['sip'] = list()\n",
    "        self.sniffed_info['dip'] = list()\n",
    "        self.sniffed_info['sport'] = list()\n",
    "        self.sniffed_info['dport'] = list()\n",
    "        self.sniffed_info['protocol'] = list()\n",
    "        self.sniffed_info['process'] = list()\n",
    "        self.sniffed_info['payload'] = list()\n",
    "        self.sql = str()\n",
    "        self.db_rows = str()\n",
    "        \n",
    "    def set_data(self, host, user, password, db, charset):\n",
    "        self.sniffed_len = len(self.sniffed)\n",
    "        for i in range(self.sniffed_len):\n",
    "            self.sniffed_info['idpackets'].append(self.start_id)\n",
    "            self.start_id += 1\n",
    "            self.sniffed_info['timestamp'].append(self.sniffed[i].time)\n",
    "            try:\n",
    "                self.sniffed_info['sip'].append(self.sniffed[i]['IP'].src)\n",
    "            except IndexError:\n",
    "                self.sniffed_info['sip'].append('')\n",
    "            try:\n",
    "                self.sniffed_info['dip'].append(self.sniffed[i]['IP'].dst)\n",
    "            except IndexError:\n",
    "                self.sniffed_info['dip'].append('')\n",
    "            try:\n",
    "                self.sniffed_info['sport'].append(str(self.sniffed[i].sport))\n",
    "            except AttributeError:\n",
    "                self.sniffed_info['sport'].append('')\n",
    "            try:\n",
    "                self.sniffed_info['dport'].append(str(self.sniffed[i].dport))\n",
    "            except AttributeError:\n",
    "                self.sniffed_info['dport'].append('')\n",
    "            try:\n",
    "                self.sniffed_info['protocol'].append(str(self.sniffed[i].proto))\n",
    "            except AttributeError:\n",
    "                self.sniffed_info['protocol'].append('')\n",
    "            self.sniffed_info['process'].append('')\n",
    "            self.sniffed_info['payload'].append('')\n",
    "            \n",
    "        self.conn = pymysql.connect(host=host, user=user, password=password, db=db, charset=charset)\n",
    "        self.curs = self.conn.cursor()\n",
    "        return (self.sniffed_len, [self.sniffed_info['idpackets'], self.sniffed_info['timestamp'], \\\n",
    "                                   self.sniffed_info['sip'], self.sniffed_info['dip'], self.sniffed_info['sport'], \\\n",
    "                                   self.sniffed_info['dport'], self.sniffed_info['protocol'], \\\n",
    "                                   self.sniffed_info['process'], self.sniffed_info['payload']])\n",
    "        \n",
    "    def start_sniffing(self):\n",
    "        try:\n",
    "            self.sniffed = sniff(timeout=self.sniffing_duration, filter=\"tcp\", prn=lambda x:x.summary())\n",
    "        except KeyboardInterrupt:\n",
    "            print('Interrupted')\n",
    "            #connclose\n",
    "            sys.exit(0)\n",
    "            \n",
    "    def append_process_name_and_payload(self):\n",
    "        for dip_index in range(len(self.sniffed_info['dip'])):\n",
    "            dip_value = \"raddr=('\" + self.sniffed_info['dip'][dip_index] + \"'\"\n",
    "            for proc in psutil.process_iter():\n",
    "                try:\n",
    "                    if dip_value in str(proc.connections()):\n",
    "                        self.sniffed_info['process'][dip_index] = proc.name()\n",
    "                        try:\n",
    "                            self.sniffed_info['payload'][dip_index] = str(self.sniffed[dip_index]['TCP'].payload)\n",
    "                        except IndexError:\n",
    "                            self.sniffed_info['payload'][dip_index] = str(self.sniffed[dip_index]['UDP'].payload)\n",
    "                except psutil.AccessDenied:\n",
    "                    pass\n",
    "        print()\n",
    "        print(\"----------------------------------------------------------------------------------------------------------\")\n",
    "        print(\"--------------------sniffed_info--------------------------------------------------------------------------\")\n",
    "        print('idpackets : ', self.sniffed_info['idpackets'])\n",
    "        print('timestamp : ', self.sniffed_info['timestamp'])\n",
    "        print('sip : ', self.sniffed_info['sip'])\n",
    "        print('dip : ', self.sniffed_info['dip'])\n",
    "        print('sport : ', self.sniffed_info['sport'])\n",
    "        print('dport : ', self.sniffed_info['dport'])\n",
    "        print('protocol : ', self.sniffed_info['protocol'])\n",
    "        print('process : ', self.sniffed_info['process'])\n",
    "        print('payload : ', self.sniffed_info['payload'])\n",
    "        print(\"----------------------------------------------------------------------------------------------------------\")\n",
    "                        \n",
    "    def store_in_db(self, sql, idx, timestamp, sip, dip, sport, dport, protocol, process, payload):\n",
    "        self.sql = sql\n",
    "        self.curs.execute(self.sql, (idx, timestamp, sip, dip, sport, dport, protocol, process, payload))\n",
    "        \n",
    "        #print(sniffed_info_)\n",
    "        \n",
    "    def show_db(self, sql):\n",
    "        self.conn.commit()\n",
    "        self.sql = sql\n",
    "        self.curs.execute(self.sql)\n",
    "        self.db_rows = self.curs.fetchall()\n",
    "        return list(self.db_rows)\n",
    "        \n",
    "    def close_db(self):\n",
    "        return self.conn.close()"
   ]
  },
  {
   "cell_type": "code",
   "execution_count": 3,
   "metadata": {
    "collapsed": false,
    "scrolled": false
   },
   "outputs": [
    {
     "name": "stdout",
     "output_type": "stream",
     "text": [
      "Ether / IP / TCP 172.19.87.27:52722 > 54.245.103.194:https S\n",
      "Ether / IP / TCP 172.19.87.27:52723 > 54.245.103.194:https S\n",
      "Ether / IP / TCP 172.19.87.27:52724 > 54.245.103.194:https S\n",
      "Ether / IP / TCP 54.245.103.194:https > 172.19.87.27:52722 SA\n",
      "Ether / IP / TCP 172.19.87.27:52722 > 54.245.103.194:https A\n",
      "Ether / IP / TCP 172.19.87.27:52722 > 54.245.103.194:https PA / Raw\n",
      "Ether / IP / TCP 54.245.103.194:https > 172.19.87.27:52723 SA\n",
      "Ether / IP / TCP 172.19.87.27:52723 > 54.245.103.194:https A\n",
      "Ether / IP / TCP 172.19.87.27:52723 > 54.245.103.194:https PA / Raw\n",
      "Ether / IP / TCP 54.245.103.194:https > 172.19.87.27:52722 A\n",
      "Ether / IP / TCP 54.245.103.194:https > 172.19.87.27:52722 A / Raw\n",
      "Ether / IP / TCP 54.245.103.194:https > 172.19.87.27:52722 PA / Raw\n",
      "Ether / IP / TCP 172.19.87.27:52722 > 54.245.103.194:https A\n",
      "Ether / IP / TCP 54.245.103.194:https > 172.19.87.27:52724 SA\n",
      "Ether / IP / TCP 172.19.87.27:52724 > 54.245.103.194:https A\n",
      "Ether / IP / TCP 172.19.87.27:52722 > 54.245.103.194:https PA / Raw\n",
      "Ether / IP / TCP 54.245.103.194:https > 172.19.87.27:52723 A\n",
      "Ether / IP / TCP 54.245.103.194:https > 172.19.87.27:52723 A / Raw\n",
      "Ether / IP / TCP 54.245.103.194:https > 172.19.87.27:52723 PA / Raw\n",
      "Ether / IP / TCP 172.19.87.27:52723 > 54.245.103.194:https A\n",
      "Ether / IP / TCP 172.19.87.27:52723 > 54.245.103.194:https PA / Raw\n",
      "Ether / IP / TCP 54.245.103.194:https > 172.19.87.27:52722 PA / Raw\n",
      "Ether / IP / TCP 172.19.87.27:52722 > 54.245.103.194:https A\n",
      "Ether / IP / TCP 172.19.87.27:52722 > 54.245.103.194:https PA / Raw\n",
      "Ether / IP / TCP 54.245.103.194:https > 172.19.87.27:52723 PA / Raw\n",
      "Ether / IP / TCP 172.19.87.27:52723 > 54.245.103.194:https A\n",
      "Ether / IP / TCP 172.19.87.27:52723 > 54.245.103.194:https PA / Raw\n",
      "Ether / IP / TCP 54.245.103.194:https > 172.19.87.27:52722 PA / Raw\n",
      "Ether / IP / TCP 172.19.87.27:52722 > 54.245.103.194:https A\n",
      "Ether / IP / TCP 54.245.103.194:https > 172.19.87.27:52723 PA / Raw\n",
      "Ether / IP / TCP 172.19.87.27:52723 > 54.245.103.194:https A\n",
      "Ether / IP / TCP 172.19.87.27:52605 > 162.125.34.129:https A\n",
      "Ether / IP / TCP 162.125.34.129:https > 172.19.87.27:52605 A\n",
      "Ether / IP / TCP 172.19.87.27:52655 > 192.30.253.125:https A\n",
      "Ether / IP / TCP 192.30.253.125:https > 172.19.87.27:52655 A\n",
      "Ether / IP / TCP 172.19.87.27:52543 > 130.211.14.185:http A\n",
      "Ether / IP / TCP 172.19.87.27:52537 > 27.0.236.50:http A\n",
      "Ether / IP / TCP 172.19.87.27:52536 > 27.0.236.50:http A\n",
      "Ether / IP / TCP 172.19.87.27:52524 > 216.58.197.138:http A\n",
      "Ether / IP / TCP 27.0.236.50:http > 172.19.87.27:52537 A\n",
      "Ether / IP / TCP 27.0.236.50:http > 172.19.87.27:52536 A\n",
      "Ether / IP / TCP 130.211.14.185:http > 172.19.87.27:52543 A\n",
      "Ether / IP / TCP 216.58.197.138:http > 172.19.87.27:52524 A\n",
      "Ether / IP / TCP 172.19.87.27:52526 > 172.217.25.194:http A\n",
      "Ether / IP / TCP 172.217.25.194:http > 172.19.87.27:52526 A\n"
     ]
    },
    {
     "name": "stderr",
     "output_type": "stream",
     "text": [
      "WARNING: Unless called manually, this could indicate deprecated use. Should be changed to bytes(self)\n",
      "WARNING: Unless called manually, this could indicate deprecated use. Should be changed to bytes(self)\n",
      "WARNING: more Unless called manually, this could indicate deprecated use. Should be changed to bytes(self)\n"
     ]
    },
    {
     "name": "stdout",
     "output_type": "stream",
     "text": [
      "\n",
      "----------------------------------------------------------------------------------------------------------\n",
      "--------------------sniffed_info--------------------------------------------------------------------------\n",
      "idpackets :  [0, 1, 2, 3, 4, 5, 6, 7, 8, 9, 10, 11, 12, 13, 14, 15, 16, 17, 18, 19, 20, 21, 22, 23, 24, 25, 26, 27, 28, 29, 30, 31, 32, 33, 34, 35, 36, 37, 38, 39, 40, 41, 42, 43, 44]\n",
      "timestamp :  [1494918043, 1494918043, 1494918043, 1494918043, 1494918043, 1494918043, 1494918043, 1494918043, 1494918043, 1494918043, 1494918043, 1494918043, 1494918043, 1494918043, 1494918043, 1494918043, 1494918043, 1494918043, 1494918043, 1494918043, 1494918043, 1494918043, 1494918043, 1494918043, 1494918043, 1494918043, 1494918043, 1494918043, 1494918043, 1494918043, 1494918043, 1494918044, 1494918044, 1494918050, 1494918050, 1494918051, 1494918051, 1494918051, 1494918051, 1494918051, 1494918051, 1494918051, 1494918051, 1494918052, 1494918052]\n",
      "sip :  ['172.19.87.27', '172.19.87.27', '172.19.87.27', '54.245.103.194', '172.19.87.27', '172.19.87.27', '54.245.103.194', '172.19.87.27', '172.19.87.27', '54.245.103.194', '54.245.103.194', '54.245.103.194', '172.19.87.27', '54.245.103.194', '172.19.87.27', '172.19.87.27', '54.245.103.194', '54.245.103.194', '54.245.103.194', '172.19.87.27', '172.19.87.27', '54.245.103.194', '172.19.87.27', '172.19.87.27', '54.245.103.194', '172.19.87.27', '172.19.87.27', '54.245.103.194', '172.19.87.27', '54.245.103.194', '172.19.87.27', '172.19.87.27', '162.125.34.129', '172.19.87.27', '192.30.253.125', '172.19.87.27', '172.19.87.27', '172.19.87.27', '172.19.87.27', '27.0.236.50', '27.0.236.50', '130.211.14.185', '216.58.197.138', '172.19.87.27', '172.217.25.194']\n",
      "dip :  ['54.245.103.194', '54.245.103.194', '54.245.103.194', '172.19.87.27', '54.245.103.194', '54.245.103.194', '172.19.87.27', '54.245.103.194', '54.245.103.194', '172.19.87.27', '172.19.87.27', '172.19.87.27', '54.245.103.194', '172.19.87.27', '54.245.103.194', '54.245.103.194', '172.19.87.27', '172.19.87.27', '172.19.87.27', '54.245.103.194', '54.245.103.194', '172.19.87.27', '54.245.103.194', '54.245.103.194', '172.19.87.27', '54.245.103.194', '54.245.103.194', '172.19.87.27', '54.245.103.194', '172.19.87.27', '54.245.103.194', '162.125.34.129', '172.19.87.27', '192.30.253.125', '172.19.87.27', '130.211.14.185', '27.0.236.50', '27.0.236.50', '216.58.197.138', '172.19.87.27', '172.19.87.27', '172.19.87.27', '172.19.87.27', '172.217.25.194', '172.19.87.27']\n",
      "sport :  ['52722', '52723', '52724', '443', '52722', '52722', '443', '52723', '52723', '443', '443', '443', '52722', '443', '52724', '52722', '443', '443', '443', '52723', '52723', '443', '52722', '52722', '443', '52723', '52723', '443', '52722', '443', '52723', '52605', '443', '52655', '443', '52543', '52537', '52536', '52524', '80', '80', '80', '80', '52526', '80']\n",
      "dport :  ['443', '443', '443', '52722', '443', '443', '52723', '443', '443', '52722', '52722', '52722', '443', '52724', '443', '443', '52723', '52723', '52723', '443', '443', '52722', '443', '443', '52723', '443', '443', '52722', '443', '52723', '443', '443', '52605', '443', '52655', '80', '80', '80', '80', '52537', '52536', '52543', '52524', '80', '52526']\n",
      "protocol :  ['6', '6', '6', '6', '6', '6', '6', '6', '6', '6', '6', '6', '6', '6', '6', '6', '6', '6', '6', '6', '6', '6', '6', '6', '6', '6', '6', '6', '6', '6', '6', '6', '6', '6', '6', '6', '6', '6', '6', '6', '6', '6', '6', '6', '6']\n",
      "process :  ['Google Chrome', 'Google Chrome', 'Google Chrome', '', 'Google Chrome', 'Google Chrome', '', 'Google Chrome', 'Google Chrome', '', '', '', 'Google Chrome', '', 'Google Chrome', 'Google Chrome', '', '', '', 'Google Chrome', 'Google Chrome', '', 'Google Chrome', 'Google Chrome', '', 'Google Chrome', 'Google Chrome', '', 'Google Chrome', '', 'Google Chrome', 'Google Chrome', '', 'Google Chrome', '', 'Google Chrome', 'Google Chrome', 'Google Chrome', 'Google Chrome', '', '', '', '', 'Google Chrome', '']\n",
      "payload :  ['', '', '', '', '', \"b'\\\\x16\\\\x03\\\\x01\\\\x00\\\\xc5\\\\x01\\\\x00\\\\x00\\\\xc1\\\\x03\\\\x03\\\\x8e\\\\x00\\\\x1fk\\\\xdc\\\\xb12C\\\\xf8E\\\\n\\\\x0c\\\\xfa\\\\x1f\\\\x1a\\\\xe3\\\\xd2xf\\\\x96ZTw\\\\x9d^Vze\\\\xff<\\\\x0b0\\\\x00\\\\x00\\\\x1c\\\\x8a\\\\x8a\\\\xc0+\\\\xc0/\\\\xc0,\\\\xc00\\\\xcc\\\\xa9\\\\xcc\\\\xa8\\\\xc0\\\\x13\\\\xc0\\\\x14\\\\x00\\\\x9c\\\\x00\\\\x9d\\\\x00/\\\\x005\\\\x00\\\\n\\\\x01\\\\x00\\\\x00|\\\\x1a\\\\x1a\\\\x00\\\\x00\\\\xff\\\\x01\\\\x00\\\\x01\\\\x00\\\\x00\\\\x00\\\\x00\\\\x13\\\\x00\\\\x11\\\\x00\\\\x00\\\\x0eag.innovid.com\\\\x00\\\\x17\\\\x00\\\\x00\\\\x00#\\\\x00\\\\x00\\\\x00\\\\r\\\\x00\\\\x14\\\\x00\\\\x12\\\\x04\\\\x03\\\\x08\\\\x04\\\\x04\\\\x01\\\\x05\\\\x03\\\\x08\\\\x05\\\\x05\\\\x01\\\\x08\\\\x06\\\\x06\\\\x01\\\\x02\\\\x01\\\\x00\\\\x05\\\\x00\\\\x05\\\\x01\\\\x00\\\\x00\\\\x00\\\\x00\\\\x00\\\\x12\\\\x00\\\\x00\\\\x00\\\\x10\\\\x00\\\\x0e\\\\x00\\\\x0c\\\\x02h2\\\\x08http/1.1uP\\\\x00\\\\x00\\\\x00\\\\x0b\\\\x00\\\\x02\\\\x01\\\\x00\\\\x00\\\\n\\\\x00\\\\n\\\\x00\\\\x08\\\\n\\\\n\\\\x00\\\\x1d\\\\x00\\\\x17\\\\x00\\\\x18jj\\\\x00\\\\x01\\\\x00'\", '', '', \"b'\\\\x16\\\\x03\\\\x01\\\\x00\\\\xc5\\\\x01\\\\x00\\\\x00\\\\xc1\\\\x03\\\\x03\\\\xbb2\\\\xdaK\\\\\\\\q\\\\xc6\\\\xe6\\\\x93\\\\x89J\\\\x98\\\\xf7\\\\xd0#\\\\xce\\\\x7f\\\\xdb\\\\x98\\\\xe3~-\\\\xc0\\\\xcd\\\\xf1\\\\xe2\\\\xf4\\\\xbfj\\\\x98l9\\\\x00\\\\x00\\\\x1c\\\\xba\\\\xba\\\\xc0+\\\\xc0/\\\\xc0,\\\\xc00\\\\xcc\\\\xa9\\\\xcc\\\\xa8\\\\xc0\\\\x13\\\\xc0\\\\x14\\\\x00\\\\x9c\\\\x00\\\\x9d\\\\x00/\\\\x005\\\\x00\\\\n\\\\x01\\\\x00\\\\x00|\\\\xda\\\\xda\\\\x00\\\\x00\\\\xff\\\\x01\\\\x00\\\\x01\\\\x00\\\\x00\\\\x00\\\\x00\\\\x13\\\\x00\\\\x11\\\\x00\\\\x00\\\\x0eag.innovid.com\\\\x00\\\\x17\\\\x00\\\\x00\\\\x00#\\\\x00\\\\x00\\\\x00\\\\r\\\\x00\\\\x14\\\\x00\\\\x12\\\\x04\\\\x03\\\\x08\\\\x04\\\\x04\\\\x01\\\\x05\\\\x03\\\\x08\\\\x05\\\\x05\\\\x01\\\\x08\\\\x06\\\\x06\\\\x01\\\\x02\\\\x01\\\\x00\\\\x05\\\\x00\\\\x05\\\\x01\\\\x00\\\\x00\\\\x00\\\\x00\\\\x00\\\\x12\\\\x00\\\\x00\\\\x00\\\\x10\\\\x00\\\\x0e\\\\x00\\\\x0c\\\\x02h2\\\\x08http/1.1uP\\\\x00\\\\x00\\\\x00\\\\x0b\\\\x00\\\\x02\\\\x01\\\\x00\\\\x00\\\\n\\\\x00\\\\n\\\\x00\\\\x08::\\\\x00\\\\x1d\\\\x00\\\\x17\\\\x00\\\\x18JJ\\\\x00\\\\x01\\\\x00'\", '', '', '', '', '', '', \"b'\\\\x16\\\\x03\\\\x03\\\\x00F\\\\x10\\\\x00\\\\x00BA\\\\x04\\\\x00q\\\\x9f\\\\xda\\\\xfaQ4\\\\xcd\\\\xcd\\\\xcfpFRM\\\\x0ek;\\\\x9b?UH.\\\\x0f\\\\xc4\\\\x96O]\\\\xc7a\\\\x0e\\\\x88V\\\\x90\\\\xdd\\\\x99\\\\xc5\\\\xd0\\\\rW\\\\xd9D\\\\x05q\\\\xe9G\\\\x06~\\\\x90\\\\x1f\\\\x9f\\\\x03\\\\xe1\\\\xe9\\\\xc6\\\\x1b\\\\xc2\\\\xc9\\\\xfd\\\\x052\\\\r\\\\xf2\\\\xca\\\\xb8\\\\x14\\\\x03\\\\x03\\\\x00\\\\x01\\\\x01\\\\x16\\\\x03\\\\x03\\\\x00(\\\\x00\\\\x00\\\\x00\\\\x00\\\\x00\\\\x00\\\\x00\\\\x00\\\\xc3\\\\xe5Q\\\\xd3\\\\x9ap\\\\x89K\\\\xf2\\\\x8c\\\\xa8\\\\x17\\\\xde\\\\xa4\\\\xa9\\\\xd6\\\\x8c\\\\xce\\\\xf4-\\\\x08\\\\x8c@\\\\x11\\\\xd77 \\\\xad\\\\xc6\\\\xf2\\\\x17}'\", '', '', '', '', 'b\"\\\\x16\\\\x03\\\\x03\\\\x00F\\\\x10\\\\x00\\\\x00BA\\\\x04\\\\tM\\\\xe0m\\\\x99\\\\xa8W\\\\xfd\\\\xb4\\'~C|\\\\x05\\\\xb6_\\\\xe3\\\\xa8\\\\x82i\\\\xdb\\\\xffc\\\\xbc\\\\xf0QW*IIQ9\\\\xe4\\\\x1ca\\\\xb8x\\\\x89\\\\xaa\\\\x82vo\\\\x182\\\\x05?\\\\xe5*\\\\xd8^\\\\xa3T\\\\xeb\\\\x0e\\\\xcb\\\\xf3\\\\xa0a;7g)\\\\x0f\\\\xe7\\\\x14\\\\x03\\\\x03\\\\x00\\\\x01\\\\x01\\\\x16\\\\x03\\\\x03\\\\x00(\\\\x00\\\\x00\\\\x00\\\\x00\\\\x00\\\\x00\\\\x00\\\\x00+\\\\xc8H6\\\\xb2\\\\xd5\\\\x7fff\\\\xc3\\\\x91R\\\\x9b\\\\x95\\\\xf9\\\\xb7\\\\xf7\\\\x0f\\\\xb5;T\\\\x0b\\\\x96A\\\\xaa\\\\x93\\\\xb9^\\\\x8a\\\\x12 &\"', '', '', 'b\\'\\\\x17\\\\x03\\\\x03\\\\x02z\\\\x00\\\\x00\\\\x00\\\\x00\\\\x00\\\\x00\\\\x00\\\\x01\\\\xe5S\\\\xb4\"\\\\xe7\\\\x01D\\\\x11/^\\\\xe5M\\\\x08\\\\xc0>p\\\\x9a\\\\xb3\\\\x9cj\\\\xd7\\\\xdf\\\\xd8G\\\\x98\\\\xd3U(\\\\xccD\\\\xd15\\\\x9f\\\\xb3FW\\\\xee\\\\xfc\\\\xaf\\\\x85\\\\xe9\\\\x04\\\\x15\\\\xc1\\\\xd8;C\\\\x98\\\\x81\\\\xc1}\\\\xdc$\\\\xdb3w\\\\xeb\\\\x11\\\\x08\\\\xc0kT\\\\\\\\\\\\x18.\\\\xcb\\\\xc3\\\\x1c\\\\xee\\\\x8d\\\\xf1\\\\x8ak\\\\x88\\\\xceO\\\\x9f\\\\xc1\\\\x86!\\\\xf1\\\\x96V\\\\x16+c\\\\xc6H@(\\\\xdfN\\\\xa8\\\\xf0lH\\\\x140\\\\xb5\\\\x0b\\\\xa4\\\\xacm\\\\x01\\\\x07\\\\x85.\\\\xf07f{\\\\xa1\\\\x0e\\\\xb9hSE\\\\x16\\\\xc9\\\\x1f\\\\x14\\\\x9b\\\\xe2H\\\\xf6\\\\xed\\\\xc1\\\\x02Z\\\\xe82\\\\xdc\\\\x0b,f>\\\\x8e\\\\xfc\\\\xbc\\\\x02\\\\x924ld\\\\\\\\\\\\x81p9H\\\\xf4h\\\\xc6\\\\\\'\\\\xf0\\\\xe8\\\\xa4W`>\\\\x0be&Hy\\\\\\\\?4/\\\\x82\\\\xd4\\\\x97\\\\x88\\\\xe53?$\\\\xabm\\\\x83\\\\x0ek\\\\xe8Z\\\\x93\\\\xdb\\\\xe1)\\\\xfd\\\\xf1\\\\xb2_)\\\\x1cO?\\\\x80n\\\\xda$P\\\\x8e\\\\x86@uGz\\\\xaf\\\\xce\\\\x9f\\\\x1a\\\\xdd8\\\\x8b\\\\x12\\\\x1f\\\\r\\\\xf1\\\\x7f:\\\\xda{(\\\\xde-\\\\x19\\\\t\"\\\\xa6j\\\\xbb\\\\xab\\\\x16)vm?k\\\\x8f\\\\xed\\\\xbf\\\\xab\\\\xbc\\\\x19\\\\xc2\\\\xf7.\\\\xba\\\\x8c\\\\xc7\\\\x11\\\\xbd\\\\xa4\\\\xc9|\\\\xd97\\\\xd1\\\\x12\\\\xe1\\\\xcc\\\\x0c\\\\xc1\\\\x82\\\\xab\\\\x93\\\\xea\\\\xd5\\\\x03\\\\xc9\\\\xfe!\\\\xc4\\\\x8f5\\\\n\\\\x05v\\\\xa43G\\\\\\\\\\\\xfeS\\\\xdd\\\\xbem\\\\xd19\\\\xb7\\\\x8a\\\\xaf\\\\\\\\\\\\x9aB2:\\\\x10u\\\\x12m\\\\xed\\\\x8dI\\\\x1f\\\\xf4\\\\xd4\\\\xf4\\\\x80s\\\\x92\\\\xf7Tz\\\\xc3Y\\\\x99=[\\\\x8c,\\\\xe9$\\\\xd1\\\\xe2\\\\x06-VS\\\\xa8\\\\xa0erG\\\\xda\\\\xe9\\\\xcb#\\\\x92\\\\x19_\\\\xc8D_\\\\xa5\\\\xa8*f\\\\xf2\\\\x08\\\\xee\\\\xa3w\\\\xbb\\\\xcdh\\\\xd3k\\\\x91F\\\\xcd\\\\x1f:\\\\xae\\\\xe1\\\\x12M9\\\\xf5\\\\x0fdL2\\\\xf1_\\\\xb2\\\\xe5\\\\x0c\\\\xe4\\\\xcb\\\\xeb~\\\\xc9\\\\xc8D\\\\xcc\\\\x1d\\\\xde\\\\xe5Gz\\\\xde\\\\xea0Zb\\\\xf3\\\\xcdL:\\\\xbd\\\\x8b\\\\xa7\\\\x9c\\\\xd2\\\\x0bR\\\\xd0C\\\\x17\\\\xb4\\\\xac\\\\x88b\\\\xa8\\\\xbe\\\\xcaz\\\\x8e\\\\\\\\\\\\x08\\\\x1c\\\\n\\\\xbel\\\\x1f\\\\xc3f\\\\x03\\\\xf9\\\\xed\\\\x10$n\\\\x86\\\\nA\\\\xe5\\\\xa1\\\\xa9\\\\xae.\\\\\\'\\\\xf9\\\\xf4\\\\xe1v\\\\xf4\\\\xfc\\\\xf1\\\\x15j\\\\xd281\\\\x053\\\\xb7Z7\\\\xea\\\\x08\\\\xf1c\\\\xbd,V\\\\x88\\\\x9b\\\\xb1q\\\\xd6u\\\\xc2\\\\xccb\\\\xf2M\\\\xe24:\\\\x15-\\\\x1ca\\\\x96\\\\x82\\\\r\\\\xcc\\\\xe54\\\\x858\\\\x96CFRf\\\\xc0o\\\\xdd\\\\x9c\\\\x89\\\\xb5\\\\x83\\\\xb5]8\\\\xc9sY4\\\\x17G02\\\\x88X\\\\xe9\\\\xb9P\\\\xac\\\\x16\\\\xee\\\\t/;=*\\\\x81\\\\xc1\\\\xbc\\\\xdd\\\\xb3\\\\x89\\\\x1312\\\\x93\\\\xf5\\\\xf9\\\\x0c\\\\xd0#\\\\xa7\\\\x8d\\\\x8c\\\\x1f\\\\xb2\\\\x0f\\\\xb4\\\\x8a\\\\xedk\\\\xb8\\\\xd5\\\\xb4\\\\xb5\\\\x9c\\\\xaa\\\\xc9\\\\x93\\\\xf7\\\\xc2E\\\\xcb\\\\x9b8\\\\r\\\\xd1\\\\n\\\\x15p\\\\xb8c/\\\\x89\\\\x90\\\\xa2\\\\xc9\\\\xc9k\\\\xc8\\\\xcd\\\\xf1\\\\xfdr\\\\x9c\\\\x88\\\\x07\\\\x95\\\\\\'\\\\xf3\\\\xd5\\\\xc82\\\\x0f\\\\x93\\\\xa1\\\\xd7\\\\\\'#\\\\x81\\\\xc4\\\\x17\\\\x12\\\\xee\\\\xfb\\\\x98\\\\x9f\\\\x05\\\\xab\\\\xe8\\\\xe5F\\\\x98\\\\xa8\\\\x0f\\\\xacR\\\\xfaf7\\\\x9a\\\\xc02\\\\x84\\'', '', '', 'b\\'\\\\x17\\\\x03\\\\x03\\\\x02z\\\\x00\\\\x00\\\\x00\\\\x00\\\\x00\\\\x00\\\\x00\\\\x01\\\\xa9\\\\xc5\\\\nJ\\\\xb3M\\\\x9f\\\\x95Mk\\\\xa7z\\\\xd7b\\\\xbf\\\\xc5\\\\xc1\\\\x15L\\\\xa3\\\\ni\\\\xecr}\\\\x97\\\\x18\"\\\\xb3\\\\r\\\\xfe\\\\xe8\\\\xee\\\\xc5\\\\xe1 \\\\x8f\\\\xb6\\\\xa2>\\\\xa3|\\\\x97~\\\\x890\\\\xea\\\\xe0\\\\\\'\\\\x89\\\\xc7d=\\\\x98EV\\\\xde\\\\xcb|;8\\\\x05\\\\xdb\\\\x8cx\\\\xa2m]f!\\\\x97\\\\x935>\\\\x89\\\\xe1\\\\x8a\\\\xf4X\\\\xe2K\\\\xe0A\\\\xb1jn(pP\\\\xf5\\\\x16f\\\\x0f,\\\\x07\\\\xd9`\\\\x84\\\\xf3\\\\xb3s,\\\\xc6G\\\\x81\\\\x1a\\\\xf6\\\\x02B`L\\\\xf2%a\\\\xa7;>\\\\xbbIS\\\\x18F.\\\\x1fJ\\\\xde\\\\x19\\\\xe8\\\\xc6\\\\xf7l,C\\\\xf8\\\\x17\\\\xc30\\\\x82\\\\xbe\\\\xedl\\\\x99\\\\xde\\\\x0f\\\\xec\\\\xd9\"\\\\x00\\\\x9cm<\\\\xd4x\\\\x05\\\\xa1\\\\x89\\\\xf6\\\\xd9\\\\xc3\\\\xf5\\\\xf9\\\\xffCf\\\\xf9\\\\x87\\\\xf2\\\\xeb\\\\x80\\\\xbc>\\\\x13\\\\xf5\\\\x85\\\\xb4\\\\x8d\\\\x02\\\\xad\\\\xc6\\\\xea\\\\xff\\\\xb6y\\\\xde\\\\xde\\\\xc8\\\\x00\\\\xf2,\\\\\\\\\\\\x1a\\\\x16\\\\x7f\\\\xadL\\\\xd4[+\\\\x12\\\\xf2\\\\xa5\\\\xd1\\\\x86\\\\xee\\\\xfce8q\\\\xe5W\\\\x7f\\\\xa0v\\\\x8c\\\\x14\\\\x8c\\\\x8964[\\\\xd8\\\\xbb\\\\x8c#\\\\x00F\\\\x83\\\\x94\\\\x16\\\\xf8\\\\x07\\\\xb5\\\\xb9\\\\x83\\\\xa5\\\\xe1Z\\\\xe37!\\\\xd9\\\\xa8\\\\x14\\\\x1c\\\\xa8:\\\\xa2\\\\xb0\\\\xa9a\\\\x8a_\\\\x9e\\\\xa7]\\\\xbc%\\\\xb5:\\\\x8e\\\\xcf\\\\x8f%\\\\xd0/\\\\x9c\\\\xe9J\\\\xe5\\\\xbc\\\\x8c@;\\\\xec\\\\xc2\\\\xacQ\\\\xd42 \\\\x97bBE\\\\x92\\\\x03v(\\\\\\\\mM\\\\xdf\\\\t\\\\x85\\\\x1f\\\\xd2\\\\xa2\\\\n\\\\n\\\\xbe\\\\n\\\\x12e\\\\xf0\\\\xc4C\\\\x86\\\\xc2^9w%Q\\\\x17\\\\x0cs\\\\x84\\\\rr.\\\\xed\\\\xe9v\\\\x8a\\\\x0e)\\\\x85\\\\xe1Q\\\\xa8R\\\\xf3\\\\xb9\\\\xfe\\\\xe2\\\\xe0b\\\\xedmt\\\\xd4\\\\xcd\\\\xce\\\\x1btA\\\\xfe<s]G\\\\xad\\\\xa1\\\\xc1\\\\x9d\\\\xc3\"\\\\x94=EL\\\\x9c\\\\xe1O\\\\x08}4X\\\\xddx\\\\xeb\\\\x82i\\\\xcf\\\\xe7\\\\xa7\\\\xb3W\\\\x12\\\\xd8\\\\xe55\\\\xfc\\\\x1c^\\\\x07\\\\x0c\\\\x11Cw\\\\x01\\\\x15q:\\\\xd1Dd\\\\xb7JuN\\\\xa7\\\\x95\\\\x80\\\\x13H\\\\x8a#Yt\\\\x8b\\\\xb4/\\\\xd9}\\\\xc5.4\\\\x950\\\\xc4\\\\xc7\\\\xc5\\\\x1d0\\\\xe6\\\\x13\\\\xe7\\\\xd3!\\\\\\\\\\\\xa7\\\\xef\\\\xf0z\\\\x88~\\\\xabq6\\\\x9d\\\\xf7\\\\xcf\\\\x17\\\\xac\\\\x0b\\\\xaf\\\\xee\\\\xb3x&@\\\\xcb\\\\x0b\\\\xcd>Q\\\\xcb\\\\x9e\\\\x8et\\\\xb6\\\\xea\\\\xecNf#5\\\\xe8R\\\\x12\\\\x8el\\\\\\'\\\\\\\\\\\\xc0\\\\x9e\\\\x97\\\\x9cw\\\\x0f\\\\xf5\\\\x1b\\\\xccq\\\\x0bC.\\\\xe72\\\\x14dQ\\\\xa8\\\\xa1\\\\xd12\\\\xfb \\\\xc0\\\\xf3\\\\x9f\\\\xc2o\\\\xf6\\\\x80\\\\x0c\\\\x12\\\\xedi\\\\x93\\\\x02\\\\xf2\\\\xdd\\\\xf7\\\\\\'\\\\xeb\\\\rh\\\\xae\\\\xf2i\\\\x18\\\\xe2\\\\x04\\\\xe7\\\\xb3BY9\\\\x18\\\\x83\\\\x8b/2=tgv\\\\x96\\\\xea\\\\xf7h/\\\\xc4>Y\\\\xff\\\\xc5 \\\\x10\\\\x85_\\\\x00%zc]\\\\xc2\\\\xd6C-n\\\\\\\\rm,\\\\\\'|`\\\\xb8\\\\xa1F\\\\xea\\\\xb1\\\\x93\\\\x87\\\\xcb\\\\x14\\\\x17\\\\xb5\\\\x96\\\\xa6\\\\x1a\\\\xcf\\\\xc0o\\\\x90\\\\x89p\\\\x910\\\\x1f\\\\xb6\\\\xdd\\\\xf7-s\\\\x7fm\\\\xfe\\\\x05^\\\\xa9\\\\x9bRG\\\\x12< \\\\x8e\\\\\\\\\\\\xf6>\\\\x0fSAP\\\\x10\\\\xc0\\\\x9c\\\\xc0T]\\\\xfc5\\'', '', '', '', '', '', '', '', '', '', '', '', '', '', '', '', '', '', '']\n",
      "----------------------------------------------------------------------------------------------------------\n"
     ]
    },
    {
     "ename": "IntegrityError",
     "evalue": "(1062, \"Duplicate entry '0' for key 'PRIMARY'\")",
     "output_type": "error",
     "traceback": [
      "\u001b[0;31m---------------------------------------------------------------------------\u001b[0m",
      "\u001b[0;31mIntegrityError\u001b[0m                            Traceback (most recent call last)",
      "\u001b[0;32m<ipython-input-3-dfd624c66155>\u001b[0m in \u001b[0;36m<module>\u001b[0;34m()\u001b[0m\n\u001b[1;32m      7\u001b[0m     \u001b[0msniffer\u001b[0m\u001b[0;34m.\u001b[0m\u001b[0mappend_process_name_and_payload\u001b[0m\u001b[0;34m(\u001b[0m\u001b[0;34m)\u001b[0m\u001b[0;34m\u001b[0m\u001b[0m\n\u001b[1;32m      8\u001b[0m     \u001b[0;32mfor\u001b[0m \u001b[0mi\u001b[0m \u001b[0;32min\u001b[0m \u001b[0mrange\u001b[0m\u001b[0;34m(\u001b[0m\u001b[0msniffed_len\u001b[0m\u001b[0;34m)\u001b[0m\u001b[0;34m:\u001b[0m\u001b[0;34m\u001b[0m\u001b[0m\n\u001b[0;32m----> 9\u001b[0;31m         \u001b[0msniffer\u001b[0m\u001b[0;34m.\u001b[0m\u001b[0mstore_in_db\u001b[0m\u001b[0;34m(\u001b[0m\u001b[0msql\u001b[0m \u001b[0;34m=\u001b[0m \u001b[0;34m\"insert into packets(idpackets, timestamp, sip, dip, sport, dport,                                 protocol, process, payload) values (%s, %s, %s, %s, %s, %s, %s, %s, %s)\"\u001b[0m\u001b[0;34m,\u001b[0m                             \u001b[0midx\u001b[0m \u001b[0;34m=\u001b[0m \u001b[0msniffed_list\u001b[0m\u001b[0;34m[\u001b[0m\u001b[0;36m0\u001b[0m\u001b[0;34m]\u001b[0m\u001b[0;34m[\u001b[0m\u001b[0mi\u001b[0m\u001b[0;34m]\u001b[0m\u001b[0;34m,\u001b[0m \u001b[0mtimestamp\u001b[0m \u001b[0;34m=\u001b[0m \u001b[0msniffed_list\u001b[0m\u001b[0;34m[\u001b[0m\u001b[0;36m1\u001b[0m\u001b[0;34m]\u001b[0m\u001b[0;34m[\u001b[0m\u001b[0mi\u001b[0m\u001b[0;34m]\u001b[0m\u001b[0;34m,\u001b[0m \u001b[0msip\u001b[0m \u001b[0;34m=\u001b[0m \u001b[0msniffed_list\u001b[0m\u001b[0;34m[\u001b[0m\u001b[0;36m2\u001b[0m\u001b[0;34m]\u001b[0m\u001b[0;34m[\u001b[0m\u001b[0mi\u001b[0m\u001b[0;34m]\u001b[0m\u001b[0;34m,\u001b[0m                             \u001b[0mdip\u001b[0m \u001b[0;34m=\u001b[0m \u001b[0msniffed_list\u001b[0m\u001b[0;34m[\u001b[0m\u001b[0;36m3\u001b[0m\u001b[0;34m]\u001b[0m\u001b[0;34m[\u001b[0m\u001b[0mi\u001b[0m\u001b[0;34m]\u001b[0m\u001b[0;34m,\u001b[0m \u001b[0msport\u001b[0m \u001b[0;34m=\u001b[0m \u001b[0msniffed_list\u001b[0m\u001b[0;34m[\u001b[0m\u001b[0;36m4\u001b[0m\u001b[0;34m]\u001b[0m\u001b[0;34m[\u001b[0m\u001b[0mi\u001b[0m\u001b[0;34m]\u001b[0m\u001b[0;34m,\u001b[0m \u001b[0mdport\u001b[0m \u001b[0;34m=\u001b[0m \u001b[0msniffed_list\u001b[0m\u001b[0;34m[\u001b[0m\u001b[0;36m5\u001b[0m\u001b[0;34m]\u001b[0m\u001b[0;34m[\u001b[0m\u001b[0mi\u001b[0m\u001b[0;34m]\u001b[0m\u001b[0;34m,\u001b[0m                             \u001b[0mprotocol\u001b[0m \u001b[0;34m=\u001b[0m \u001b[0msniffed_list\u001b[0m\u001b[0;34m[\u001b[0m\u001b[0;36m6\u001b[0m\u001b[0;34m]\u001b[0m\u001b[0;34m[\u001b[0m\u001b[0mi\u001b[0m\u001b[0;34m]\u001b[0m\u001b[0;34m,\u001b[0m \u001b[0mprocess\u001b[0m \u001b[0;34m=\u001b[0m \u001b[0msniffed_list\u001b[0m\u001b[0;34m[\u001b[0m\u001b[0;36m7\u001b[0m\u001b[0;34m]\u001b[0m\u001b[0;34m[\u001b[0m\u001b[0mi\u001b[0m\u001b[0;34m]\u001b[0m\u001b[0;34m,\u001b[0m \u001b[0mpayload\u001b[0m \u001b[0;34m=\u001b[0m \u001b[0msniffed_list\u001b[0m\u001b[0;34m[\u001b[0m\u001b[0;36m8\u001b[0m\u001b[0;34m]\u001b[0m\u001b[0;34m[\u001b[0m\u001b[0mi\u001b[0m\u001b[0;34m]\u001b[0m\u001b[0;34m)\u001b[0m\u001b[0;34m\u001b[0m\u001b[0m\n\u001b[0m\u001b[1;32m     10\u001b[0m     \u001b[0mprint\u001b[0m\u001b[0;34m(\u001b[0m\u001b[0;34m)\u001b[0m\u001b[0;34m\u001b[0m\u001b[0m\n\u001b[1;32m     11\u001b[0m     \u001b[0mprint\u001b[0m\u001b[0;34m(\u001b[0m\u001b[0;34m\"----------------------------------------------------------------------------------------------------------\"\u001b[0m\u001b[0;34m)\u001b[0m\u001b[0;34m\u001b[0m\u001b[0m\n",
      "\u001b[0;32m<ipython-input-2-8b12a882e214>\u001b[0m in \u001b[0;36mstore_in_db\u001b[0;34m(self, sql, idx, timestamp, sip, dip, sport, dport, protocol, process, payload)\u001b[0m\n\u001b[1;32m     88\u001b[0m     \u001b[0;32mdef\u001b[0m \u001b[0mstore_in_db\u001b[0m\u001b[0;34m(\u001b[0m\u001b[0mself\u001b[0m\u001b[0;34m,\u001b[0m \u001b[0msql\u001b[0m\u001b[0;34m,\u001b[0m \u001b[0midx\u001b[0m\u001b[0;34m,\u001b[0m \u001b[0mtimestamp\u001b[0m\u001b[0;34m,\u001b[0m \u001b[0msip\u001b[0m\u001b[0;34m,\u001b[0m \u001b[0mdip\u001b[0m\u001b[0;34m,\u001b[0m \u001b[0msport\u001b[0m\u001b[0;34m,\u001b[0m \u001b[0mdport\u001b[0m\u001b[0;34m,\u001b[0m \u001b[0mprotocol\u001b[0m\u001b[0;34m,\u001b[0m \u001b[0mprocess\u001b[0m\u001b[0;34m,\u001b[0m \u001b[0mpayload\u001b[0m\u001b[0;34m)\u001b[0m\u001b[0;34m:\u001b[0m\u001b[0;34m\u001b[0m\u001b[0m\n\u001b[1;32m     89\u001b[0m         \u001b[0mself\u001b[0m\u001b[0;34m.\u001b[0m\u001b[0msql\u001b[0m \u001b[0;34m=\u001b[0m \u001b[0msql\u001b[0m\u001b[0;34m\u001b[0m\u001b[0m\n\u001b[0;32m---> 90\u001b[0;31m         \u001b[0mself\u001b[0m\u001b[0;34m.\u001b[0m\u001b[0mcurs\u001b[0m\u001b[0;34m.\u001b[0m\u001b[0mexecute\u001b[0m\u001b[0;34m(\u001b[0m\u001b[0mself\u001b[0m\u001b[0;34m.\u001b[0m\u001b[0msql\u001b[0m\u001b[0;34m,\u001b[0m \u001b[0;34m(\u001b[0m\u001b[0midx\u001b[0m\u001b[0;34m,\u001b[0m \u001b[0mtimestamp\u001b[0m\u001b[0;34m,\u001b[0m \u001b[0msip\u001b[0m\u001b[0;34m,\u001b[0m \u001b[0mdip\u001b[0m\u001b[0;34m,\u001b[0m \u001b[0msport\u001b[0m\u001b[0;34m,\u001b[0m \u001b[0mdport\u001b[0m\u001b[0;34m,\u001b[0m \u001b[0mprotocol\u001b[0m\u001b[0;34m,\u001b[0m \u001b[0mprocess\u001b[0m\u001b[0;34m,\u001b[0m \u001b[0mpayload\u001b[0m\u001b[0;34m)\u001b[0m\u001b[0;34m)\u001b[0m\u001b[0;34m\u001b[0m\u001b[0m\n\u001b[0m\u001b[1;32m     91\u001b[0m \u001b[0;34m\u001b[0m\u001b[0m\n\u001b[1;32m     92\u001b[0m         \u001b[0;31m#print(sniffed_info_)\u001b[0m\u001b[0;34m\u001b[0m\u001b[0;34m\u001b[0m\u001b[0m\n",
      "\u001b[0;32m/Users/jubong/anaconda3/lib/python3.6/site-packages/pymysql/cursors.py\u001b[0m in \u001b[0;36mexecute\u001b[0;34m(self, query, args)\u001b[0m\n\u001b[1;32m    164\u001b[0m         \u001b[0mquery\u001b[0m \u001b[0;34m=\u001b[0m \u001b[0mself\u001b[0m\u001b[0;34m.\u001b[0m\u001b[0mmogrify\u001b[0m\u001b[0;34m(\u001b[0m\u001b[0mquery\u001b[0m\u001b[0;34m,\u001b[0m \u001b[0margs\u001b[0m\u001b[0;34m)\u001b[0m\u001b[0;34m\u001b[0m\u001b[0m\n\u001b[1;32m    165\u001b[0m \u001b[0;34m\u001b[0m\u001b[0m\n\u001b[0;32m--> 166\u001b[0;31m         \u001b[0mresult\u001b[0m \u001b[0;34m=\u001b[0m \u001b[0mself\u001b[0m\u001b[0;34m.\u001b[0m\u001b[0m_query\u001b[0m\u001b[0;34m(\u001b[0m\u001b[0mquery\u001b[0m\u001b[0;34m)\u001b[0m\u001b[0;34m\u001b[0m\u001b[0m\n\u001b[0m\u001b[1;32m    167\u001b[0m         \u001b[0mself\u001b[0m\u001b[0;34m.\u001b[0m\u001b[0m_executed\u001b[0m \u001b[0;34m=\u001b[0m \u001b[0mquery\u001b[0m\u001b[0;34m\u001b[0m\u001b[0m\n\u001b[1;32m    168\u001b[0m         \u001b[0;32mreturn\u001b[0m \u001b[0mresult\u001b[0m\u001b[0;34m\u001b[0m\u001b[0m\n",
      "\u001b[0;32m/Users/jubong/anaconda3/lib/python3.6/site-packages/pymysql/cursors.py\u001b[0m in \u001b[0;36m_query\u001b[0;34m(self, q)\u001b[0m\n\u001b[1;32m    320\u001b[0m         \u001b[0mconn\u001b[0m \u001b[0;34m=\u001b[0m \u001b[0mself\u001b[0m\u001b[0;34m.\u001b[0m\u001b[0m_get_db\u001b[0m\u001b[0;34m(\u001b[0m\u001b[0;34m)\u001b[0m\u001b[0;34m\u001b[0m\u001b[0m\n\u001b[1;32m    321\u001b[0m         \u001b[0mself\u001b[0m\u001b[0;34m.\u001b[0m\u001b[0m_last_executed\u001b[0m \u001b[0;34m=\u001b[0m \u001b[0mq\u001b[0m\u001b[0;34m\u001b[0m\u001b[0m\n\u001b[0;32m--> 322\u001b[0;31m         \u001b[0mconn\u001b[0m\u001b[0;34m.\u001b[0m\u001b[0mquery\u001b[0m\u001b[0;34m(\u001b[0m\u001b[0mq\u001b[0m\u001b[0;34m)\u001b[0m\u001b[0;34m\u001b[0m\u001b[0m\n\u001b[0m\u001b[1;32m    323\u001b[0m         \u001b[0mself\u001b[0m\u001b[0;34m.\u001b[0m\u001b[0m_do_get_result\u001b[0m\u001b[0;34m(\u001b[0m\u001b[0;34m)\u001b[0m\u001b[0;34m\u001b[0m\u001b[0m\n\u001b[1;32m    324\u001b[0m         \u001b[0;32mreturn\u001b[0m \u001b[0mself\u001b[0m\u001b[0;34m.\u001b[0m\u001b[0mrowcount\u001b[0m\u001b[0;34m\u001b[0m\u001b[0m\n",
      "\u001b[0;32m/Users/jubong/anaconda3/lib/python3.6/site-packages/pymysql/connections.py\u001b[0m in \u001b[0;36mquery\u001b[0;34m(self, sql, unbuffered)\u001b[0m\n\u001b[1;32m    854\u001b[0m                 \u001b[0msql\u001b[0m \u001b[0;34m=\u001b[0m \u001b[0msql\u001b[0m\u001b[0;34m.\u001b[0m\u001b[0mencode\u001b[0m\u001b[0;34m(\u001b[0m\u001b[0mself\u001b[0m\u001b[0;34m.\u001b[0m\u001b[0mencoding\u001b[0m\u001b[0;34m,\u001b[0m \u001b[0;34m'surrogateescape'\u001b[0m\u001b[0;34m)\u001b[0m\u001b[0;34m\u001b[0m\u001b[0m\n\u001b[1;32m    855\u001b[0m         \u001b[0mself\u001b[0m\u001b[0;34m.\u001b[0m\u001b[0m_execute_command\u001b[0m\u001b[0;34m(\u001b[0m\u001b[0mCOMMAND\u001b[0m\u001b[0;34m.\u001b[0m\u001b[0mCOM_QUERY\u001b[0m\u001b[0;34m,\u001b[0m \u001b[0msql\u001b[0m\u001b[0;34m)\u001b[0m\u001b[0;34m\u001b[0m\u001b[0m\n\u001b[0;32m--> 856\u001b[0;31m         \u001b[0mself\u001b[0m\u001b[0;34m.\u001b[0m\u001b[0m_affected_rows\u001b[0m \u001b[0;34m=\u001b[0m \u001b[0mself\u001b[0m\u001b[0;34m.\u001b[0m\u001b[0m_read_query_result\u001b[0m\u001b[0;34m(\u001b[0m\u001b[0munbuffered\u001b[0m\u001b[0;34m=\u001b[0m\u001b[0munbuffered\u001b[0m\u001b[0;34m)\u001b[0m\u001b[0;34m\u001b[0m\u001b[0m\n\u001b[0m\u001b[1;32m    857\u001b[0m         \u001b[0;32mreturn\u001b[0m \u001b[0mself\u001b[0m\u001b[0;34m.\u001b[0m\u001b[0m_affected_rows\u001b[0m\u001b[0;34m\u001b[0m\u001b[0m\n\u001b[1;32m    858\u001b[0m \u001b[0;34m\u001b[0m\u001b[0m\n",
      "\u001b[0;32m/Users/jubong/anaconda3/lib/python3.6/site-packages/pymysql/connections.py\u001b[0m in \u001b[0;36m_read_query_result\u001b[0;34m(self, unbuffered)\u001b[0m\n\u001b[1;32m   1055\u001b[0m         \u001b[0;32melse\u001b[0m\u001b[0;34m:\u001b[0m\u001b[0;34m\u001b[0m\u001b[0m\n\u001b[1;32m   1056\u001b[0m             \u001b[0mresult\u001b[0m \u001b[0;34m=\u001b[0m \u001b[0mMySQLResult\u001b[0m\u001b[0;34m(\u001b[0m\u001b[0mself\u001b[0m\u001b[0;34m)\u001b[0m\u001b[0;34m\u001b[0m\u001b[0m\n\u001b[0;32m-> 1057\u001b[0;31m             \u001b[0mresult\u001b[0m\u001b[0;34m.\u001b[0m\u001b[0mread\u001b[0m\u001b[0;34m(\u001b[0m\u001b[0;34m)\u001b[0m\u001b[0;34m\u001b[0m\u001b[0m\n\u001b[0m\u001b[1;32m   1058\u001b[0m         \u001b[0mself\u001b[0m\u001b[0;34m.\u001b[0m\u001b[0m_result\u001b[0m \u001b[0;34m=\u001b[0m \u001b[0mresult\u001b[0m\u001b[0;34m\u001b[0m\u001b[0m\n\u001b[1;32m   1059\u001b[0m         \u001b[0;32mif\u001b[0m \u001b[0mresult\u001b[0m\u001b[0;34m.\u001b[0m\u001b[0mserver_status\u001b[0m \u001b[0;32mis\u001b[0m \u001b[0;32mnot\u001b[0m \u001b[0;32mNone\u001b[0m\u001b[0;34m:\u001b[0m\u001b[0;34m\u001b[0m\u001b[0m\n",
      "\u001b[0;32m/Users/jubong/anaconda3/lib/python3.6/site-packages/pymysql/connections.py\u001b[0m in \u001b[0;36mread\u001b[0;34m(self)\u001b[0m\n\u001b[1;32m   1338\u001b[0m     \u001b[0;32mdef\u001b[0m \u001b[0mread\u001b[0m\u001b[0;34m(\u001b[0m\u001b[0mself\u001b[0m\u001b[0;34m)\u001b[0m\u001b[0;34m:\u001b[0m\u001b[0;34m\u001b[0m\u001b[0m\n\u001b[1;32m   1339\u001b[0m         \u001b[0;32mtry\u001b[0m\u001b[0;34m:\u001b[0m\u001b[0;34m\u001b[0m\u001b[0m\n\u001b[0;32m-> 1340\u001b[0;31m             \u001b[0mfirst_packet\u001b[0m \u001b[0;34m=\u001b[0m \u001b[0mself\u001b[0m\u001b[0;34m.\u001b[0m\u001b[0mconnection\u001b[0m\u001b[0;34m.\u001b[0m\u001b[0m_read_packet\u001b[0m\u001b[0;34m(\u001b[0m\u001b[0;34m)\u001b[0m\u001b[0;34m\u001b[0m\u001b[0m\n\u001b[0m\u001b[1;32m   1341\u001b[0m \u001b[0;34m\u001b[0m\u001b[0m\n\u001b[1;32m   1342\u001b[0m             \u001b[0;32mif\u001b[0m \u001b[0mfirst_packet\u001b[0m\u001b[0;34m.\u001b[0m\u001b[0mis_ok_packet\u001b[0m\u001b[0;34m(\u001b[0m\u001b[0;34m)\u001b[0m\u001b[0;34m:\u001b[0m\u001b[0;34m\u001b[0m\u001b[0m\n",
      "\u001b[0;32m/Users/jubong/anaconda3/lib/python3.6/site-packages/pymysql/connections.py\u001b[0m in \u001b[0;36m_read_packet\u001b[0;34m(self, packet_type)\u001b[0m\n\u001b[1;32m   1012\u001b[0m \u001b[0;34m\u001b[0m\u001b[0m\n\u001b[1;32m   1013\u001b[0m         \u001b[0mpacket\u001b[0m \u001b[0;34m=\u001b[0m \u001b[0mpacket_type\u001b[0m\u001b[0;34m(\u001b[0m\u001b[0mbuff\u001b[0m\u001b[0;34m,\u001b[0m \u001b[0mself\u001b[0m\u001b[0;34m.\u001b[0m\u001b[0mencoding\u001b[0m\u001b[0;34m)\u001b[0m\u001b[0;34m\u001b[0m\u001b[0m\n\u001b[0;32m-> 1014\u001b[0;31m         \u001b[0mpacket\u001b[0m\u001b[0;34m.\u001b[0m\u001b[0mcheck_error\u001b[0m\u001b[0;34m(\u001b[0m\u001b[0;34m)\u001b[0m\u001b[0;34m\u001b[0m\u001b[0m\n\u001b[0m\u001b[1;32m   1015\u001b[0m         \u001b[0;32mreturn\u001b[0m \u001b[0mpacket\u001b[0m\u001b[0;34m\u001b[0m\u001b[0m\n\u001b[1;32m   1016\u001b[0m \u001b[0;34m\u001b[0m\u001b[0m\n",
      "\u001b[0;32m/Users/jubong/anaconda3/lib/python3.6/site-packages/pymysql/connections.py\u001b[0m in \u001b[0;36mcheck_error\u001b[0;34m(self)\u001b[0m\n\u001b[1;32m    391\u001b[0m             \u001b[0merrno\u001b[0m \u001b[0;34m=\u001b[0m \u001b[0mself\u001b[0m\u001b[0;34m.\u001b[0m\u001b[0mread_uint16\u001b[0m\u001b[0;34m(\u001b[0m\u001b[0;34m)\u001b[0m\u001b[0;34m\u001b[0m\u001b[0m\n\u001b[1;32m    392\u001b[0m             \u001b[0;32mif\u001b[0m \u001b[0mDEBUG\u001b[0m\u001b[0;34m:\u001b[0m \u001b[0mprint\u001b[0m\u001b[0;34m(\u001b[0m\u001b[0;34m\"errno =\"\u001b[0m\u001b[0;34m,\u001b[0m \u001b[0merrno\u001b[0m\u001b[0;34m)\u001b[0m\u001b[0;34m\u001b[0m\u001b[0m\n\u001b[0;32m--> 393\u001b[0;31m             \u001b[0merr\u001b[0m\u001b[0;34m.\u001b[0m\u001b[0mraise_mysql_exception\u001b[0m\u001b[0;34m(\u001b[0m\u001b[0mself\u001b[0m\u001b[0;34m.\u001b[0m\u001b[0m_data\u001b[0m\u001b[0;34m)\u001b[0m\u001b[0;34m\u001b[0m\u001b[0m\n\u001b[0m\u001b[1;32m    394\u001b[0m \u001b[0;34m\u001b[0m\u001b[0m\n\u001b[1;32m    395\u001b[0m     \u001b[0;32mdef\u001b[0m \u001b[0mdump\u001b[0m\u001b[0;34m(\u001b[0m\u001b[0mself\u001b[0m\u001b[0;34m)\u001b[0m\u001b[0;34m:\u001b[0m\u001b[0;34m\u001b[0m\u001b[0m\n",
      "\u001b[0;32m/Users/jubong/anaconda3/lib/python3.6/site-packages/pymysql/err.py\u001b[0m in \u001b[0;36mraise_mysql_exception\u001b[0;34m(data)\u001b[0m\n\u001b[1;32m    105\u001b[0m         \u001b[0merrval\u001b[0m \u001b[0;34m=\u001b[0m \u001b[0mdata\u001b[0m\u001b[0;34m[\u001b[0m\u001b[0;36m3\u001b[0m\u001b[0;34m:\u001b[0m\u001b[0;34m]\u001b[0m\u001b[0;34m.\u001b[0m\u001b[0mdecode\u001b[0m\u001b[0;34m(\u001b[0m\u001b[0;34m'utf-8'\u001b[0m\u001b[0;34m,\u001b[0m \u001b[0;34m'replace'\u001b[0m\u001b[0;34m)\u001b[0m\u001b[0;34m\u001b[0m\u001b[0m\n\u001b[1;32m    106\u001b[0m     \u001b[0merrorclass\u001b[0m \u001b[0;34m=\u001b[0m \u001b[0merror_map\u001b[0m\u001b[0;34m.\u001b[0m\u001b[0mget\u001b[0m\u001b[0;34m(\u001b[0m\u001b[0merrno\u001b[0m\u001b[0;34m,\u001b[0m \u001b[0mInternalError\u001b[0m\u001b[0;34m)\u001b[0m\u001b[0;34m\u001b[0m\u001b[0m\n\u001b[0;32m--> 107\u001b[0;31m     \u001b[0;32mraise\u001b[0m \u001b[0merrorclass\u001b[0m\u001b[0;34m(\u001b[0m\u001b[0merrno\u001b[0m\u001b[0;34m,\u001b[0m \u001b[0merrval\u001b[0m\u001b[0;34m)\u001b[0m\u001b[0;34m\u001b[0m\u001b[0m\n\u001b[0m",
      "\u001b[0;31mIntegrityError\u001b[0m: (1062, \"Duplicate entry '0' for key 'PRIMARY'\")"
     ]
    }
   ],
   "source": [
    "if __name__ == '__main__':\n",
    "    sniffer = packet_sniffer(10, 0)\n",
    "    sniffer.start_sniffing()\n",
    "    sniffed_len, sniffed_list = sniffer.set_data(host='localhost', user='root', password='Bong1011@@', db='testdb', \\\n",
    "                                                  charset='utf8')\n",
    "    #sniffed_list_len = len(sniffed_list) # 9\n",
    "    #print(sniffed_list_len)\n",
    "    sniffer.append_process_name_and_payload()\n",
    "    for i in range(sniffed_len):\n",
    "        sniffer.store_in_db(sql = \"insert into packets(idpackets, timestamp, sip, dip, sport, dport, \\\n",
    "                                protocol, process, payload) values (%s, %s, %s, %s, %s, %s, %s, %s, %s)\", \\\n",
    "                            idx = sniffed_list[0][i], timestamp = sniffed_list[1][i], sip = sniffed_list[2][i], \\\n",
    "                            dip = sniffed_list[3][i], sport = sniffed_list[4][i], dport = sniffed_list[5][i], \\\n",
    "                            protocol = sniffed_list[6][i], process = sniffed_list[7][i], payload = sniffed_list[8][i])\n",
    "    print()\n",
    "    print(\"----------------------------------------------------------------------------------------------------------\")\n",
    "    print(\"--------------------database_info-------------------------------------------------------------------------\")\n",
    "    for row in sniffer.show_db(\"select * from packets\"):\n",
    "        print(row)\n",
    "    print(\"----------------------------------------------------------------------------------------------------------\")\n",
    "    sniffer.close_db()"
   ]
  },
  {
   "cell_type": "code",
   "execution_count": 2,
   "metadata": {
    "collapsed": true
   },
   "outputs": [],
   "source": [
    "import sys"
   ]
  },
  {
   "cell_type": "code",
   "execution_count": 1,
   "metadata": {
    "collapsed": true
   },
   "outputs": [],
   "source": [
    "string_ = 'b\\'\\\\x17\\\\x03\\\\x03\\\\x009\\\\x00\\\\x00\\\\x00\\\\x00\\\\x00\\\\x00\\\\x05\\\\xba\\\\x04\\\\xaf\\\\xe5sB\\\\xdd\\\\xd7\\\\xb4-l\\\\xce\\\\xa4\\\\x0e\\\\x1dj\\\\n\\\\xc5\\\\xfe^4@\\\\x85D\\\\\\\\\\\\x0c\\\\x97\\\\xf5;\\\\x0c\\\\x97Z\\\\xbc\\\\x8aZHa\\\\xe6\\\\xd6'"
   ]
  },
  {
   "cell_type": "code",
   "execution_count": 4,
   "metadata": {
    "collapsed": false
   },
   "outputs": [],
   "source": [
    "str_to_bin = ''.join(format(ord(x), 'b') for x in string_)"
   ]
  },
  {
   "cell_type": "code",
   "execution_count": 5,
   "metadata": {
    "collapsed": false
   },
   "outputs": [
    {
     "name": "stdout",
     "output_type": "stream",
     "text": [
      "1100010100111101110011110001100011101111011100111100011000011001110111001111000110000110011101110011110001100001100001110011011100111100011000011000010111001111000110000110000101110011110001100001100001011100111100011000011000010111001111000110000110000101110011110001100001100001011100111100011000011010110111001111000110001011000011011100111100011000011010010111001111000110000111001101011100111100011001011101011110011100001010111001111000110010011001001011100111100011001001101111011100111100011000101101001011011101100101110011110001100011110010110111001111000110000111010010111001111000110000110010110111001111000110001110010011010101011100110111010111001111000110001111010110111001111000110011011001011011110110100100000010111001111000111000110101100010010111001011100101110011110001100001100011101110011110001110011101111011100111100011001101101011110111011100111100011000011000111011100111100011100111011110110101011100111100011000101100011101110011110001110001100001101101010010001100001101110011110001100101110110101110011110001100100110110\n"
     ]
    }
   ],
   "source": [
    "print(str_to_bin)"
   ]
  },
  {
   "cell_type": "code",
   "execution_count": 6,
   "metadata": {
    "collapsed": false
   },
   "outputs": [
    {
     "name": "stdout",
     "output_type": "stream",
     "text": [
      "string size :  206 \n",
      "binary size :  1100\n"
     ]
    }
   ],
   "source": [
    "print(\"string size : \", sys.getsizeof(string_), \"\\nbinary size : \", sys.getsizeof(str_to_bin))"
   ]
  },
  {
   "cell_type": "code",
   "execution_count": null,
   "metadata": {
    "collapsed": true
   },
   "outputs": [],
   "source": []
  }
 ],
 "metadata": {
  "kernelspec": {
   "display_name": "Python 3",
   "language": "python",
   "name": "python3"
  },
  "language_info": {
   "codemirror_mode": {
    "name": "ipython",
    "version": 3
   },
   "file_extension": ".py",
   "mimetype": "text/x-python",
   "name": "python",
   "nbconvert_exporter": "python",
   "pygments_lexer": "ipython3",
   "version": "3.6.0"
  }
 },
 "nbformat": 4,
 "nbformat_minor": 2
}
