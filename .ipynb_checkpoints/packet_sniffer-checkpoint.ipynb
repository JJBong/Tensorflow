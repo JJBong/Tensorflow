{
 "cells": [
  {
   "cell_type": "code",
   "execution_count": 32,
   "metadata": {
    "collapsed": false
   },
   "outputs": [],
   "source": [
    "import threading\n",
    "from scapy.all import *\n",
    "import psutil\n",
    "import pymysql"
   ]
  },
  {
   "cell_type": "code",
   "execution_count": 29,
   "metadata": {
    "collapsed": false
   },
   "outputs": [],
   "source": [
    "class packet_sniffer():\n",
    "    def __init__(self, sniffing_duration, start_id):\n",
    "        self.sniffed = scapy.plist.PacketList\n",
    "        self.sniffing_duration = sniffing_duration\n",
    "        self.start_id = start_id\n",
    "        self.sniffed_info = dict()\n",
    "        self.sniffed_info['idpackets'] = list()\n",
    "        self.sniffed_info['timestamp'] = list()\n",
    "        self.sniffed_info['sip'] = list()\n",
    "        self.sniffed_info['dip'] = list()\n",
    "        self.sniffed_info['sport'] = list()\n",
    "        self.sniffed_info['dport'] = list()\n",
    "        self.sniffed_info['protocol'] = list()\n",
    "        self.sniffed_info['process'] = list()\n",
    "        self.sniffed_info['payload'] = list()\n",
    "        self.conn = pymysql.connect(host='localhost', user='root', password='', db='testdb', charset='utf8')\n",
    "        self.sql = str()\n",
    "        self.db_rows = str()\n",
    "        \n",
    "    def set_info(self):\n",
    "        for i in range(len(self.sniffed)):\n",
    "            self.sniffed_info['idpackets'].append(self.start_id)\n",
    "            self.start_id += 1\n",
    "            self.sniffed_info['timestamp'].append(self.sniffed[i].time)\n",
    "            try:\n",
    "                self.sniffed_info['sip'].append(self.sniffed[i]['IP'].src)\n",
    "            except IndexError:\n",
    "                self.sniffed_info['sip'].append('')\n",
    "            try:\n",
    "                self.sniffed_info['dip'].append(self.sniffed[i]['IP'].dst)\n",
    "            except IndexError:\n",
    "                self.sniffed_info['dip'].append('')\n",
    "            try:\n",
    "                self.sniffed_info['sport'].append(self.sniffed[i].sport)\n",
    "            except AttributeError:\n",
    "                self.sniffed_info['sport'].append('')\n",
    "            try:\n",
    "                self.sniffed_info['dport'].append(self.sniffed[i].dport)\n",
    "            except AttributeError:\n",
    "                self.sniffed_info['dport'].append('')\n",
    "            try:\n",
    "                self.sniffed_info['protocol'].append(str(self.sniffed[i].proto))\n",
    "            except AttributeError:\n",
    "                self.sniffed_info['protocol'].append('')\n",
    "            self.sniffed_info['process'].append('')\n",
    "            self.sniffed_info['payload'].append('')\n",
    "            self.curs = conn.cursor()\n",
    "        \n",
    "    def start_sniffing(self):\n",
    "        try:\n",
    "            self.sniffed = sniff(timeout=self.sniffing_duration, filter=\"tcp\", prn=lambda x:x.summary())\n",
    "        except KeyboardInterrupt:\n",
    "            print('Interrupted')\n",
    "            #connclose\n",
    "            sys.exit(0)\n",
    "            \n",
    "    def append_process_name_and_payload(self):\n",
    "        for proc in psutil.process_iter():\n",
    "            try:\n",
    "                for dip in self.sniffed_info['dip']:\n",
    "                    for pcon in proc.connections():\n",
    "                        dip_value = \"raddr=('\" + dip + \"'\"\n",
    "                        if dip_value in str(pcon):\n",
    "                            self.sniffed_info['process'][self.sniffed_info['dip'].index(dip)] = proc.name()\n",
    "                            try:\n",
    "                                self.sniffed_info['payload'][self.sniffed_info['dip'].index(dip)] = \\\n",
    "                                            self.sniffed[self.sniffed_info['dip'].index(dip)]['TCP'].payload\n",
    "                            except IndexError:\n",
    "                                self.sniffed_info['payload'][self.sniffed_info['dip'].index(dip)] = \\\n",
    "                                            self.sniffed[self.sniffed_info['dip'].index(dip)]['UDP'].payload\n",
    "            except psutil.AccessDenied:\n",
    "                pass\n",
    "        print(self.sniffed_info)\n",
    "                        \n",
    "    def store_in_db(self, sniffed_info):\n",
    "        self.sql = sql\n",
    "        curs.execute(sql,(sniffed_info))\n",
    "        conn.commit()\n",
    "        \n",
    "    def show_db(self, sql):\n",
    "        self.sql = sql\n",
    "        curs.execute(sql)\n",
    "        self.db_rows = curs.fetchall()\n",
    "        return self.db_rows\n",
    "        \n",
    "    def close_db(self):\n",
    "        self.conn.close()"
   ]
  },
  {
   "cell_type": "code",
   "execution_count": 31,
   "metadata": {
    "collapsed": false
   },
   "outputs": [
    {
     "name": "stdout",
     "output_type": "stream",
     "text": [
      "Ether / IP / TCP 172.19.87.53:61118 > 37.252.244.9:5938 PA / Raw\n",
      "Ether / IP / TCP 37.252.244.9:5938 > 172.19.87.53:61118 PA / Raw\n",
      "{'idpackets': [0, 1], 'timestamp': [1494501576, 1494501576], 'sip': ['172.19.87.53', '37.252.244.9'], 'dip': ['37.252.244.9', '172.19.87.53'], 'sport': [61118, 5938], 'dport': [5938, 61118], 'protocol': ['6', '6'], 'process': ['', ''], 'payload': ['', '']}\n",
      "ok\n"
     ]
    }
   ],
   "source": [
    "if __name__ == '__main__':\n",
    "    sniffer = packet_sniffer(2, 0)\n",
    "    sniffer.start_sniffing()\n",
    "    sniffer.set_info()\n",
    "    sniffer.append_process_name_and_payload()\n",
    "    sniffer.store_in_db(\"insert into packets(idpackets, starttime, endtime, sip, dip, sport, dport, protocol, process, payload) values (%s, %s, %s, %s, %s, %s, %s, %s, %s, %s)\")"
   ]
  },
  {
   "cell_type": "code",
   "execution_count": null,
   "metadata": {
    "collapsed": true
   },
   "outputs": [],
   "source": []
  }
 ],
 "metadata": {
  "kernelspec": {
   "display_name": "Python 3",
   "language": "python",
   "name": "python3"
  }
 },
 "nbformat": 4,
 "nbformat_minor": 2
}
