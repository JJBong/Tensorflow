{
 "cells": [
  {
   "cell_type": "code",
   "execution_count": 1,
   "metadata": {
    "collapsed": false
   },
   "outputs": [
    {
     "name": "stderr",
     "output_type": "stream",
     "text": [
      "WARNING: No route found for IPv6 destination :: (no default route?). This affects only IPv6\n"
     ]
    }
   ],
   "source": [
    "from scapy.all import *\n",
    "import psutil"
   ]
  },
  {
   "cell_type": "code",
   "execution_count": 2,
   "metadata": {
    "collapsed": false
   },
   "outputs": [
    {
     "name": "stdout",
     "output_type": "stream",
     "text": [
      "Ether / IP / TCP 172.19.87.37:56704 > 54.254.224.187:https PA / Raw\n",
      "Ether / IP / TCP 54.254.224.187:https > 172.19.87.37:56704 A\n",
      "Ether / IP / TCP 172.19.87.37:56704 > 54.254.224.187:https PA / Raw\n",
      "Ether / IP / TCP 54.254.224.187:https > 172.19.87.37:56704 A\n",
      "Ether / IP / TCP 54.254.224.187:https > 172.19.87.37:56704 PA / Raw\n",
      "Ether / IP / TCP 172.19.87.37:56704 > 54.254.224.187:https A\n",
      "Ether / IP / TCP 172.19.87.37:56867 > 192.30.253.124:https S\n",
      "Ether / IP / TCP 172.19.87.37:56849 > 104.19.193.102:https A\n",
      "Ether / IP / TCP 104.19.193.102:https > 172.19.87.37:56849 A\n",
      "Ether / IP / TCP 192.30.253.124:https > 172.19.87.37:56867 SA\n",
      "Ether / IP / TCP 172.19.87.37:56867 > 192.30.253.124:https A\n",
      "Ether / IP / TCP 172.19.87.37:56867 > 192.30.253.124:https PA / Raw\n",
      "Ether / IP / TCP 192.30.253.124:https > 172.19.87.37:56867 A / Raw\n",
      "Ether / IP / TCP 192.30.253.124:https > 172.19.87.37:56867 A / Raw\n",
      "Ether / IP / TCP 192.30.253.124:https > 172.19.87.37:56867 PA / Raw\n",
      "Ether / IP / TCP 172.19.87.37:56867 > 192.30.253.124:https A\n",
      "Ether / IP / TCP 172.19.87.37:56867 > 192.30.253.124:https A\n",
      "Ether / IP / TCP 172.19.87.37:56867 > 192.30.253.124:https PA / Raw\n",
      "Ether / IP / TCP 192.30.253.124:https > 172.19.87.37:56867 PA / Raw\n",
      "Ether / IP / TCP 172.19.87.37:56867 > 192.30.253.124:https A\n",
      "Ether / IP / TCP 172.19.87.37:56867 > 192.30.253.124:https PA / Raw\n",
      "Ether / IP / TCP 192.30.253.124:https > 172.19.87.37:56867 PA / Raw\n",
      "Ether / IP / TCP 172.19.87.37:56867 > 192.30.253.124:https A\n",
      "Ether / IP / TCP 172.19.87.37:56867 > 192.30.253.124:https PA / Raw\n",
      "Ether / IP / TCP 192.30.253.124:https > 172.19.87.37:56867 A\n",
      "Ether / IP / TCP 172.19.87.37:56856 > 151.101.73.140:https A\n",
      "Ether / IP / TCP 172.19.87.37:56853 > 192.0.73.2:https A\n",
      "Ether / IP / TCP 151.101.73.140:https > 172.19.87.37:56856 A\n",
      "Ether / IP / TCP 192.0.73.2:https > 172.19.87.37:56853 A\n"
     ]
    }
   ],
   "source": [
    "sniffed = sniff(filter=\"tcp\", prn=lambda x:x.summary())"
   ]
  },
  {
   "cell_type": "code",
   "execution_count": 5,
   "metadata": {
    "collapsed": false
   },
   "outputs": [
    {
     "name": "stdout",
     "output_type": "stream",
     "text": [
      "<class 'scapy.plist.PacketList'>\n"
     ]
    }
   ],
   "source": [
    "print(type(sniffed))"
   ]
  },
  {
   "cell_type": "code",
   "execution_count": 6,
   "metadata": {
    "collapsed": true
   },
   "outputs": [],
   "source": [
    "s = scapy.plist.PacketList"
   ]
  },
  {
   "cell_type": "code",
   "execution_count": 7,
   "metadata": {
    "collapsed": false
   },
   "outputs": [
    {
     "data": {
      "text/plain": [
       "<bound method PacketList.nsummary of <Sniffed: TCP:29 UDP:0 ICMP:0 Other:0>>"
      ]
     },
     "execution_count": 7,
     "metadata": {},
     "output_type": "execute_result"
    }
   ],
   "source": [
    "sniffed.nsummary"
   ]
  },
  {
   "cell_type": "code",
   "execution_count": 10,
   "metadata": {
    "collapsed": false
   },
   "outputs": [
    {
     "ename": "NameError",
     "evalue": "name 'sniffing' is not defined",
     "output_type": "error",
     "traceback": [
      "\u001b[0;31m---------------------------------------------------------------------------\u001b[0m",
      "\u001b[0;31mNameError\u001b[0m                                 Traceback (most recent call last)",
      "\u001b[0;32m<ipython-input-10-b85ca8ab239c>\u001b[0m in \u001b[0;36m<module>\u001b[0;34m()\u001b[0m\n\u001b[0;32m----> 1\u001b[0;31m \u001b[0msniffing\u001b[0m\u001b[0;34m.\u001b[0m\u001b[0msniffed\u001b[0m\u001b[0;34m\u001b[0m\u001b[0m\n\u001b[0m",
      "\u001b[0;31mNameError\u001b[0m: name 'sniffing' is not defined"
     ]
    }
   ],
   "source": [
    "sniffing.sniffed"
   ]
  },
  {
   "cell_type": "code",
   "execution_count": 2,
   "metadata": {
    "collapsed": false
   },
   "outputs": [],
   "source": [
    "d = dict()\n",
    "d['hi'] = list()\n",
    "d['hi'].append(5)\n",
    "d['hi'].append(4)\n",
    "d['hi'].append(10)\n",
    "d['hi'].append(11)\n",
    "d['hi'].append(6)"
   ]
  },
  {
   "cell_type": "code",
   "execution_count": 6,
   "metadata": {
    "collapsed": false
   },
   "outputs": [
    {
     "data": {
      "text/plain": [
       "2"
      ]
     },
     "execution_count": 6,
     "metadata": {},
     "output_type": "execute_result"
    }
   ],
   "source": [
    "d['hi'].index(10)"
   ]
  },
  {
   "cell_type": "code",
   "execution_count": 5,
   "metadata": {
    "collapsed": false
   },
   "outputs": [
    {
     "name": "stdout",
     "output_type": "stream",
     "text": [
      "hi\n"
     ]
    }
   ],
   "source": [
    "for i in d:\n",
    "    print(i)"
   ]
  },
  {
   "cell_type": "code",
   "execution_count": 8,
   "metadata": {
    "collapsed": false
   },
   "outputs": [
    {
     "name": "stdout",
     "output_type": "stream",
     "text": [
      "1 ('3', '5')\n"
     ]
    }
   ],
   "source": [
    "def a(*h, s):\n",
    "    print(s, h)\n",
    "a('3', '5', s = '1')"
   ]
  },
  {
   "cell_type": "code",
   "execution_count": 9,
   "metadata": {
    "collapsed": false
   },
   "outputs": [
    {
     "ename": "NameError",
     "evalue": "name 'toBinary' is not defined",
     "output_type": "error",
     "traceback": [
      "\u001b[0;31m---------------------------------------------------------------------------\u001b[0m",
      "\u001b[0;31mNameError\u001b[0m                                 Traceback (most recent call last)",
      "\u001b[0;32m<ipython-input-9-2d2123038779>\u001b[0m in \u001b[0;36m<module>\u001b[0;34m()\u001b[0m\n\u001b[0;32m----> 1\u001b[0;31m \u001b[0mtoBinary\u001b[0m\u001b[0;34m(\u001b[0m\u001b[0;34m'b\\'\\\\x17\\\\x03\\\\x03\\\\x009\\\\x00\\\\x00\\\\x00\\\\x00\\\\x00\\\\x00\\\\x05\\\\xba\\\\x04\\\\xaf\\\\xe5sB\\\\xdd\\\\xd7\\\\xb4-l\\\\xce\\\\xa4\\\\x0e\\\\x1dj\\\\n\\\\xc5\\\\xfe^4@\\\\x85D\\\\\\\\\\\\x0c\\\\x97\\\\xf5;\\\\x0c\\\\x97Z\\\\xbc\\\\x8aZHa\\\\xe6\\\\xd6 \"\\\\xed\\\\xfeA\\\\\\'5\\\\x91\\\\xf5\\\\xc3C\\''\u001b[0m\u001b[0;34m)\u001b[0m\u001b[0;34m\u001b[0m\u001b[0m\n\u001b[0m",
      "\u001b[0;31mNameError\u001b[0m: name 'toBinary' is not defined"
     ]
    }
   ],
   "source": [
    "toBinary('b\\'\\\\x17\\\\x03\\\\x03\\\\x009\\\\x00\\\\x00\\\\x00\\\\x00\\\\x00\\\\x00\\\\x05\\\\xba\\\\x04\\\\xaf\\\\xe5sB\\\\xdd\\\\xd7\\\\xb4-l\\\\xce\\\\xa4\\\\x0e\\\\x1dj\\\\n\\\\xc5\\\\xfe^4@\\\\x85D\\\\\\\\\\\\x0c\\\\x97\\\\xf5;\\\\x0c\\\\x97Z\\\\xbc\\\\x8aZHa\\\\xe6\\\\xd6 \"\\\\xed\\\\xfeA\\\\\\'5\\\\x91\\\\xf5\\\\xc3C\\'')"
   ]
  },
  {
   "cell_type": "code",
   "execution_count": null,
   "metadata": {
    "collapsed": true
   },
   "outputs": [],
   "source": []
  }
 ],
 "metadata": {
  "kernelspec": {
   "display_name": "Python 3",
   "language": "python",
   "name": "python3"
  },
  "language_info": {
   "codemirror_mode": {
    "name": "ipython",
    "version": 3
   },
   "file_extension": ".py",
   "mimetype": "text/x-python",
   "name": "python",
   "nbconvert_exporter": "python",
   "pygments_lexer": "ipython3",
   "version": "3.6.0"
  }
 },
 "nbformat": 4,
 "nbformat_minor": 2
}
