{
 "cells": [
  {
   "cell_type": "code",
   "execution_count": 1,
   "metadata": {
    "collapsed": true
   },
   "outputs": [],
   "source": [
    "import os"
   ]
  },
  {
   "cell_type": "code",
   "execution_count": 23,
   "metadata": {
    "collapsed": true
   },
   "outputs": [],
   "source": [
    "from multiprocessing import Process"
   ]
  },
  {
   "cell_type": "code",
   "execution_count": 24,
   "metadata": {
    "collapsed": false
   },
   "outputs": [],
   "source": [
    "def doubler(number):\n",
    "    result = number * 2 \n",
    "    proc = os.getpid()\n",
    "    print('{0} doubled to {1} by process id: {2}'.format( number, result, proc))"
   ]
  },
  {
   "cell_type": "code",
   "execution_count": 26,
   "metadata": {
    "collapsed": false
   },
   "outputs": [
    {
     "name": "stdout",
     "output_type": "stream",
     "text": [
      "5 doubled to 10 by process id: 11085\n",
      "10 doubled to 20 by process id: 11086\n",
      "15 doubled to 30 by process id: 11087\n",
      "20 doubled to 40 by process id: 11088\n",
      "25 doubled to 50 by process id: 11089\n"
     ]
    }
   ],
   "source": [
    "if __name__ == '__main__': \n",
    "    numbers = [5, 10, 15, 20, 25] \n",
    "    procs = []   \n",
    "    for index, number in enumerate(numbers): \n",
    "        proc = Process(target=doubler, args=(number,)) \n",
    "        procs.append(proc) \n",
    "        proc.start()   \n",
    "    for proc in procs: \n",
    "        proc.join()"
   ]
  },
  {
   "cell_type": "code",
   "execution_count": 6,
   "metadata": {
    "collapsed": false
   },
   "outputs": [
    {
     "name": "stdout",
     "output_type": "stream",
     "text": [
      "Main Thread\n",
      "Subthread 4999950000\n"
     ]
    }
   ],
   "source": [
    "import threading\n",
    " \n",
    "def sum(low, high):\n",
    "    total = 0\n",
    "    for i in range(low, high):\n",
    "        total += i\n",
    "    print(\"Subthread\", total)\n",
    " \n",
    "t = threading.Thread(target=sum, args=(1, 100000))\n",
    "t.start()\n",
    " \n",
    "print(\"Main Thread\")"
   ]
  },
  {
   "cell_type": "code",
   "execution_count": 7,
   "metadata": {
    "collapsed": false
   },
   "outputs": [
    {
     "name": "stdout",
     "output_type": "stream",
     "text": [
      "### End ###\n",
      "http://google.com 10669  chars\n"
     ]
    }
   ],
   "source": [
    "import threading, requests, time\n",
    " \n",
    "def getHtml(url):\n",
    "    resp = requests.get(url)\n",
    "    time.sleep(1)\n",
    "    print(url, len(resp.text), ' chars')\n",
    " \n",
    "t1 = threading.Thread(target=getHtml, args=('http://google.com',))\n",
    "t1.start()\n",
    " \n",
    "print(\"### End ###\")"
   ]
  },
  {
   "cell_type": "code",
   "execution_count": 19,
   "metadata": {
    "collapsed": false
   },
   "outputs": [
    {
     "name": "stdout",
     "output_type": "stream",
     "text": [
      "4\n",
      "5\n"
     ]
    }
   ],
   "source": [
    "a = 4\n",
    "def b():\n",
    "    global a\n",
    "    print(a)\n",
    "    a = 5\n",
    "    print(a)\n",
    "b()"
   ]
  },
  {
   "cell_type": "code",
   "execution_count": 33,
   "metadata": {
    "collapsed": false
   },
   "outputs": [
    {
     "name": "stdout",
     "output_type": "stream",
     "text": [
      "5초지났다.!!!!!!!!!!!!!!!!!!\n",
      "\n"
     ]
    }
   ],
   "source": [
    "import threading,time\n",
    "\n",
    "a = 0\n",
    "def test1():\n",
    "    time.sleep(5)\n",
    "    global a\n",
    "    a = 5\n",
    "    print('5초지났다.')\n",
    "    time.sleep(5)\n",
    "def test2():\n",
    "    global a\n",
    "    while 1:\n",
    "        if a > 0:\n",
    "            print(\"!!!!!!!!!!!!!!!!!!\")\n",
    "            break\n",
    "t1=threading.Thread(target=test1)\n",
    "t2=threading.Thread(target=test2)\n",
    "t1.start()\n",
    "\n",
    "t2.start()"
   ]
  },
  {
   "cell_type": "code",
   "execution_count": null,
   "metadata": {
    "collapsed": false
   },
   "outputs": [],
   "source": [
    "import logging\n",
    "logging.getLogger(\"scapy.runtime\").setLevel(logging.ERROR)\n",
    "from scapy.all import *\n",
    "import threading,time\n",
    "s = sniff(timeout=5)\n",
    "print(s)"
   ]
  },
  {
   "cell_type": "code",
   "execution_count": null,
   "metadata": {
    "collapsed": false
   },
   "outputs": [],
   "source": [
    "sniffed = \"\"\n",
    "def start_sniffing():\n",
    "    global sniffed\n",
    "    print(\"packet sniffing started.\")\n",
    "    sniffed = sniff(timeout=10, filter=\"tcp or udp\")\n",
    "    print(type(self.sniffed))\n",
    "def printing():\n",
    "    global sniffed\n",
    "    while 1:\n",
    "        time.sleep(1)\n",
    "        if not len(sniffed) == 0:\n",
    "            print(sniffed)\n",
    "        break\n",
    "t1=threading.Thread(target=start_sniffing)\n",
    "t2=threading.Thread(target=printing)\n",
    "t1.start()\n",
    "t2.start()"
   ]
  },
  {
   "cell_type": "code",
   "execution_count": null,
   "metadata": {
    "collapsed": false
   },
   "outputs": [],
   "source": [
    "sniffed = sniff(timeout=10)"
   ]
  },
  {
   "cell_type": "code",
   "execution_count": null,
   "metadata": {
    "collapsed": true
   },
   "outputs": [],
   "source": []
  }
 ],
 "metadata": {
  "kernelspec": {
   "display_name": "Python 3",
   "language": "python",
   "name": "python3"
  },
  "language_info": {
   "codemirror_mode": {
    "name": "ipython",
    "version": 3
   },
   "file_extension": ".py",
   "mimetype": "text/x-python",
   "name": "python",
   "nbconvert_exporter": "python",
   "pygments_lexer": "ipython3",
   "version": "3.6.0"
  }
 },
 "nbformat": 4,
 "nbformat_minor": 2
}
